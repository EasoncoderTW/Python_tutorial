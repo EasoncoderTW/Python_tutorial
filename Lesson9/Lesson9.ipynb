{
 "cells": [
  {
   "cell_type": "markdown",
   "metadata": {},
   "source": [
    "# 第九課：Python 的檔案魔法！📁✨\n",
    "\n",
    "歡迎來到神奇的檔案操作世界！今天我們要學習如何讓 Python 像數位巫師一樣讀取、寫入和管理檔案！🧙‍♂️\n",
    "\n",
    "## 為什麼我們需要處理檔案？🤔\n",
    "\n",
    "想想你的數位生活：\n",
    "- 「我想保存遊戲進度！」（將資料寫入檔案）\n",
    "- 「讓我看看聊天記錄！」（從檔案讀取資料）\n",
    "- 「我需要備份照片！」（複製檔案）\n",
    "- 「我把作業存在哪裡了？」（尋找並開啟檔案）\n",
    "\n",
    "Python 可以處理所有這些檔案操作甚至更多！讓我們為你的程式賦予檔案超能力！🦸‍♂️"
   ]
  },
  {
   "cell_type": "markdown",
   "metadata": {},
   "source": [
    "## 檔案冒險開始：開啟和關閉檔案 🚪\n",
    "\n",
    "### 開啟檔案：魔法傳送門 🌟\n",
    "`open()` 函數就像連接程式與檔案的魔法傳送門！"
   ]
  },
  {
   "cell_type": "code",
   "execution_count": null,
   "metadata": {},
   "outputs": [],
   "source": [
    "# 基本的檔案開啟方式\n",
    "# 開啟檔案來讀取 - 就像打開一本書！📖\n",
    "# file = open('my_diary.txt', 'r')\n",
    "\n",
    "# 開啟檔案來寫入 - 就像拿到一本空白筆記本！📝\n",
    "# file = open('shopping_list.txt', 'w')\n",
    "\n",
    "# 開啟檔案來追加 - 就像在日記本上繼續寫！✍️\n",
    "# file = open('daily_log.txt', 'a')\n",
    "\n",
    "print(\"📖 檔案開啟方式介紹完成！\")"
   ]
  },
  {
   "cell_type": "markdown",
   "metadata": {},
   "source": [
    "### `with` 語句：聰明的做法 🧠\n",
    "使用 `with` 就像有自動關閉功能 - 它會為你處理一切！"
   ]
  },
  {
   "cell_type": "code",
   "execution_count": null,
   "metadata": {},
   "outputs": [],
   "source": [
    "# 先創建一個測試檔案\n",
    "with open('test_file.txt', 'w') as file:\n",
    "    file.write('這是一個測試檔案！\\n')\n",
    "    file.write('Python 檔案操作真的很酷！🐍\\n')\n",
    "\n",
    "print(\"✅ 測試檔案已創建！\")\n",
    "\n",
    "# 聰明的做法 - Python 會自動關閉檔案！\n",
    "with open('test_file.txt', 'r') as file:\n",
    "    content = file.read()\n",
    "    print(\"📊 檔案內容已載入：\")\n",
    "    print(content)"
   ]
  },
  {
   "cell_type": "markdown",
   "metadata": {},
   "source": [
    "## 讀取檔案：解鎖數位寶藏 🗝️\n",
    "\n",
    "### 讀取整個檔案：速讀者 🏃‍♂️\n",
    "適合小檔案 - 一次讀取所有內容！"
   ]
  },
  {
   "cell_type": "code",
   "execution_count": null,
   "metadata": {},
   "outputs": [],
   "source": [
    "# 創建一個聊天記錄檔案來測試\n",
    "chat_messages = '''💬 Alice: 嗨！最近怎麼樣？😊\n",
    "💬 Bob: 剛完成 Python 作業！🐍\n",
    "💬 Alice: 等等要不要一起玩遊戲？🎮\n",
    "💬 Bob: 好啊！我剛買了新的賽車遊戲 🏎️\n",
    "💬 Alice: 太棒了！晚上七點線上見 👋'''\n",
    "\n",
    "with open('chat_log.txt', 'w') as file:\n",
    "    file.write(chat_messages)\n",
    "\n",
    "# 讀取整個聊天記錄\n",
    "with open('chat_log.txt', 'r') as file:\n",
    "    all_messages = file.read()\n",
    "    print(\"💬 所有聊天訊息：\")\n",
    "    print(all_messages)"
   ]
  },
  {
   "cell_type": "markdown",
   "metadata": {},
   "source": [
    "### 逐行讀取：謹慎的探索者 🧭\n",
    "適合大檔案 - 一次讀取一行！"
   ]
  },
  {
   "cell_type": "code",
   "execution_count": null,
   "metadata": {},
   "outputs": [],
   "source": [
    "# 創建一個高分榜檔案\n",
    "high_scores = '''CoolGamer123: 9500 分\\n\n",
    "ProPlayer: 12000 分\\n\n",
    "GameMaster: 8750 分\\n\n",
    "SpeedRunner: 11200 分\\n\n",
    "NightGamer: 9800 分'''\n",
    "\n",
    "with open('high_scores.txt', 'w') as file:\n",
    "    file.write(high_scores)\n",
    "\n",
    "# 逐行讀取高分榜\n",
    "with open('high_scores.txt', 'r') as file:\n",
    "    print(\"🏆 頂尖玩家：\")\n",
    "    rank = 1\n",
    "    for line in file:\n",
    "        print(f\"{rank}. {line.strip()}\")\n",
    "        rank += 1"
   ]
  },
  {
   "cell_type": "markdown",
   "metadata": {},
   "source": [
    "### 讀取所有行到串列：組織者 📋\n",
    "適合處理多行內容！"
   ]
  },
  {
   "cell_type": "code",
   "execution_count": null,
   "metadata": {},
   "outputs": [],
   "source": [
    "# 創建一個播放清單檔案\n",
    "playlist = '''🎵 Shape of You - Ed Sheeran\\n\n",
    "🎵 Blinding Lights - The Weeknd\\n\n",
    "🎵 Bad Guy - Billie Eilish\\n\n",
    "🎵 Watermelon Sugar - Harry Styles\\n\n",
    "🎵 Levitating - Dua Lipa'''\n",
    "\n",
    "with open('my_playlist.txt', 'w') as file:\n",
    "    file.write(playlist)\n",
    "\n",
    "# 讀取播放清單\n",
    "with open('my_playlist.txt', 'r') as file:\n",
    "    songs = file.readlines()\n",
    "    print(\"🎵 你的播放清單：\")\n",
    "    for i, song in enumerate(songs, 1):\n",
    "        print(f\"{i}. {song.strip()}\")"
   ]
  },
  {
   "cell_type": "markdown",
   "metadata": {},
   "source": [
    "## 寫入檔案：創造數位傑作 ✍️\n",
    "\n",
    "### 寫入檔案：內容創作者 📝\n",
    "建立新檔案或覆蓋現有檔案！"
   ]
  },
  {
   "cell_type": "code",
   "execution_count": null,
   "metadata": {},
   "outputs": [],
   "source": [
    "# 建立日記條目\n",
    "with open('daily_journal.txt', 'w') as file:\n",
    "    file.write(\"📅 今天的記錄：\\n\")\n",
    "    file.write(\"學習 Python 的一天太棒了！🐍\\n\")\n",
    "    file.write(\"檔案操作真的很酷！😎\\n\")\n",
    "\n",
    "print(\"✅ 日記條目已保存！\")\n",
    "\n",
    "# 建立遊戲存檔\n",
    "player_data = {\n",
    "    'name': 'CoolGamer123',\n",
    "    'level': 15,\n",
    "    'score': 9500,\n",
    "    'items': ['sword', 'shield', 'potion']\n",
    "}\n",
    "\n",
    "with open('game_save.txt', 'w') as file:\n",
    "    file.write(f\"玩家：{player_data['name']}\\n\")\n",
    "    file.write(f\"等級：{player_data['level']}\\n\")\n",
    "    file.write(f\"分數：{player_data['score']}\\n\")\n",
    "    file.write(f\"道具：{', '.join(player_data['items'])}\\n\")\n",
    "\n",
    "print(\"💾 遊戲進度已保存！\")\n",
    "\n",
    "# 驗證檔案內容\n",
    "with open('game_save.txt', 'r') as file:\n",
    "    print(\"\\n🎮 遊戲存檔內容：\")\n",
    "    print(file.read())"
   ]
  },
  {
   "cell_type": "markdown",
   "metadata": {},
   "source": [
    "### 寫入行串列：批次建立者 📦\n",
    "有效率地寫入多行！"
   ]
  },
  {
   "cell_type": "code",
   "execution_count": null,
   "metadata": {},
   "outputs": [],
   "source": [
    "# 建立待辦事項清單\n",
    "todo_items = [\n",
    "    \"📚 完成 Python 作業\\n\",\n",
    "    \"🎮 玩新發售的遊戲\\n\",\n",
    "    \"📱 回覆訊息\\n\",\n",
    "    \"🏃‍♂️ 去跑步\\n\",\n",
    "    \"🎬 和朋友看電影\\n\"\n",
    "]\n",
    "\n",
    "with open('todo_list.txt', 'w') as file:\n",
    "    file.writelines(todo_items)\n",
    "\n",
    "print(\"✅ 待辦事項清單已建立！\")\n",
    "\n",
    "# 讀取並顯示待辦事項\n",
    "with open('todo_list.txt', 'r') as file:\n",
    "    print(\"\\n📋 你的待辦事項：\")\n",
    "    items = file.readlines()\n",
    "    for i, item in enumerate(items, 1):\n",
    "        print(f\"{i}. {item.strip()}\")"
   ]
  },
  {
   "cell_type": "markdown",
   "metadata": {},
   "source": [
    "## 檔案模式：不同的超能力 🦸‍♀️\n",
    "\n",
    "### 模式小隊 🎭\n",
    "每個模式都給你的程式不同的能力！"
   ]
  },
  {
   "cell_type": "code",
   "execution_count": null,
   "metadata": {},
   "outputs": [],
   "source": [
    "# 創建一個故事檔案來測試不同模式\n",
    "story_content = \"從前從前，有一個喜歡寫程式的學生...\"\n",
    "\n",
    "# 📖 'r' - 讀取模式：閱讀者\n",
    "with open('story.txt', 'w') as file:\n",
    "    file.write(story_content)\n",
    "\n",
    "with open('story.txt', 'r') as file:\n",
    "    content = file.read()\n",
    "    print(\"📚 讀取模式：非常適合消耗內容！\")\n",
    "    print(f\"故事內容：{content}\")\n",
    "\n",
    "# ✍️ 'w' - 寫入模式：創造者/破壞者\n",
    "with open('new_story.txt', 'w') as file:\n",
    "    file.write(\"這是一個全新的故事！\")\n",
    "    print(\"\\n📝 寫入模式：建立新檔案或覆蓋現有檔案！\")\n",
    "\n",
    "# ➕ 'a' - 追加模式：貢獻者\n",
    "with open('story.txt', 'a') as file:\n",
    "    file.write(\"\\n他們從此過著快樂的生活！\")\n",
    "    print(\"\\n📄 追加模式：在現有內容後面添加！\")\n",
    "\n",
    "# 查看追加後的內容\n",
    "with open('story.txt', 'r') as file:\n",
    "    updated_content = file.read()\n",
    "    print(f\"更新後的故事：{updated_content}\")"
   ]
  },
  {
   "cell_type": "markdown",
   "metadata": {},
   "source": [
    "## 異常處理：安全網 🛡️\n",
    "\n",
    "### 像專業人士一樣處理檔案錯誤 🎯\n",
    "檔案可能很棘手 - 永遠要做好準備！"
   ]
  },
  {
   "cell_type": "code",
   "execution_count": null,
   "metadata": {},
   "outputs": [],
   "source": [
    "# 安全的檔案讀取函數\n",
    "def read_user_file(filename):\n",
    "    try:\n",
    "        with open(filename, 'r') as file:\n",
    "            content = file.read()\n",
    "            print(f\"✅ 成功讀取 {filename}！\")\n",
    "            return content\n",
    "    except FileNotFoundError:\n",
    "        print(f\"😱 糟糕！{filename} 不存在！\")\n",
    "        print(\"💡 提示：檢查檔案名稱並重試！\")\n",
    "        return None\n",
    "    except PermissionError:\n",
    "        print(f\"🚫 拒絕存取！無法存取 {filename}\")\n",
    "        return None\n",
    "    except IOError:\n",
    "        print(f\"💥 讀取 {filename} 時發生錯誤\")\n",
    "        return None\n",
    "\n",
    "# 測試安全的檔案讀取\n",
    "print(\"測試讀取存在的檔案：\")\n",
    "content = read_user_file('story.txt')\n",
    "if content:\n",
    "    print(f\"檔案內容：{content[:50]}...\")\n",
    "\n",
    "print(\"\\n測試讀取不存在的檔案：\")\n",
    "content = read_user_file('nonexistent_file.txt')"
   ]
  },
  {
   "cell_type": "markdown",
   "metadata": {},
   "source": [
    "## 實戰練習：個人日記管理器 📔\n",
    "\n",
    "讓我們建立一個數位日記來保存你的想法！"
   ]
  },
  {
   "cell_type": "code",
   "execution_count": null,
   "metadata": {},
   "outputs": [],
   "source": [
    "import datetime\n",
    "\n",
    "def write_diary_entry(entry_text):\n",
    "    \"\"\"寫入日記條目\"\"\"\n",
    "    today = datetime.date.today()\n",
    "\n",
    "    with open('my_diary.txt', 'a') as file:\n",
    "        file.write(f\"\\n📅 {today}\\n\")\n",
    "        file.write(f\"💭 {entry_text}\\n\")\n",
    "        file.write(\"-\" * 50 + \"\\n\")\n",
    "\n",
    "    print(\"✅ 日記條目已保存！\")\n",
    "\n",
    "def read_diary():\n",
    "    \"\"\"讀取日記內容\"\"\"\n",
    "    try:\n",
    "        with open('my_diary.txt', 'r') as file:\n",
    "            print(\"📖 你的日記條目：\")\n",
    "            print(file.read())\n",
    "    except FileNotFoundError:\n",
    "        print(\"📔 還沒有日記條目！開始寫吧！\")\n",
    "\n",
    "# 測試日記功能\n",
    "write_diary_entry(\"今天學習 Python 檔案操作，覺得很有趣！\")\n",
    "write_diary_entry(\"準備開始做更多的程式練習。\")\n",
    "\n",
    "# 讀取日記\n",
    "read_diary()"
   ]
  },
  {
   "cell_type": "markdown",
   "metadata": {},
   "source": [
    "## 實戰練習：遊戲高分追蹤器 🏆\n",
    "\n",
    "記錄你的遊戲成就！"
   ]
  },
  {
   "cell_type": "code",
   "execution_count": null,
   "metadata": {},
   "outputs": [],
   "source": [
    "def add_high_score(player_name, score, game):\n",
    "    \"\"\"新增高分記錄\"\"\"\n",
    "    score_entry = f\"{player_name},{score},{game}\\n\"\n",
    "\n",
    "    with open('high_scores.txt', 'a') as file:\n",
    "        file.write(score_entry)\n",
    "\n",
    "    print(f\"🎮 新高分已加入：{player_name} 在 {game} 得到 {score} 分！\")\n",
    "\n",
    "def view_high_scores():\n",
    "    \"\"\"查看高分排行榜\"\"\"\n",
    "    try:\n",
    "        with open('high_scores.txt', 'r') as file:\n",
    "            print(\"🏆 高分排行榜：\")\n",
    "            print(\"-\" * 40)\n",
    "\n",
    "            scores = []\n",
    "            for line in file:\n",
    "                name, score, game = line.strip().split(',')\n",
    "                scores.append((name, int(score), game))\n",
    "\n",
    "            # 按分數排序（最高分在前）\n",
    "            scores.sort(key=lambda x: x[1], reverse=True)\n",
    "\n",
    "            for i, (name, score, game) in enumerate(scores, 1):\n",
    "                print(f\"{i}. {name}：{score} 分 ({game})\")\n",
    "\n",
    "    except FileNotFoundError:\n",
    "        print(\"📊 還沒有高分記錄！開始遊戲吧！\")\n",
    "\n",
    "# 測試高分追蹤器\n",
    "add_high_score(\"超酷玩家\", 9500, \"太空冒險\")\n",
    "add_high_score(\"專業玩家\", 12000, \"賽車遊戲\")\n",
    "add_high_score(\"遊戲高手\", 8750, \"解謎遊戲\")\n",
    "add_high_score(\"速度狂人\", 11200, \"跑酷遊戲\")\n",
    "\n",
    "# 查看排行榜\n",
    "view_high_scores()"
   ]
  },
  {
   "cell_type": "markdown",
   "metadata": {},
   "source": [
    "## 實戰練習：聊天記錄分析器 💬\n",
    "\n",
    "分析你的聊天訊息來獲得有趣的統計！"
   ]
  },
  {
   "cell_type": "code",
   "execution_count": null,
   "metadata": {},
   "outputs": [],
   "source": [
    "def analyze_chat_log(filename):\n",
    "    \"\"\"分析聊天記錄\"\"\"\n",
    "    try:\n",
    "        with open(filename, 'r') as file:\n",
    "            lines = file.readlines()\n",
    "\n",
    "        total_messages = len(lines)\n",
    "        word_count = 0\n",
    "        longest_message = \"\"\n",
    "        emoji_count = 0\n",
    "\n",
    "        for line in lines:\n",
    "            words = line.split()\n",
    "            word_count += len(words)\n",
    "\n",
    "            if len(line) > len(longest_message):\n",
    "                longest_message = line.strip()\n",
    "\n",
    "            # 計算表情符號（簡單檢查）\n",
    "            emoji_count += sum(1 for char in line if ord(char) > 127)\n",
    "\n",
    "        print(\"📊 聊天分析報告：\")\n",
    "        print(f\"💬 總訊息數：{total_messages}\")\n",
    "        print(f\"📝 總單字數：{word_count}\")\n",
    "        if total_messages > 0:\n",
    "            print(f\"📏 每則訊息平均單字數：{word_count/total_messages:.1f}\")\n",
    "        print(f\"📱 使用的表情符號：{emoji_count}\")\n",
    "        print(f\"📖 最長訊息：{longest_message[:50]}...\")\n",
    "\n",
    "    except FileNotFoundError:\n",
    "        print(\"💬 找不到聊天記錄！\")\n",
    "\n",
    "# 建立範例聊天記錄\n",
    "sample_chat = [\n",
    "    \"嗨！最近怎麼樣？😊\\n\",\n",
    "    \"剛完成 Python 作業！🐍\\n\",\n",
    "    \"等等要不要一起玩遊戲？🎮\\n\",\n",
    "    \"好啊！我剛買了新的賽車遊戲 🏎️\\n\",\n",
    "    \"太棒了！晚上七點線上見 👋\\n\",\n",
    "    \"我也想學 Python，看起來很有趣！\\n\",\n",
    "    \"沒錯！而且檔案操作超實用的 💻\\n\"\n",
    "]\n",
    "\n",
    "with open('chat_analysis.txt', 'w') as file:\n",
    "    file.writelines(sample_chat)\n",
    "\n",
    "# 分析聊天記錄\n",
    "analyze_chat_log('chat_analysis.txt')"
   ]
  },
  {
   "cell_type": "markdown",
   "metadata": {},
   "source": [
    "## 檔案高手的專業技巧！🎯\n",
    "\n",
    "1. **總是使用 `with` 語句** - 它們會自動處理檔案關閉！🔐\n",
    "2. **處理異常** - 檔案可能不可預測，所以要做好準備！🛡️\n",
    "3. **選擇正確的模式** - 讀取用 `'r'`、寫入用 `'w'`、追加用 `'a'`！📝\n",
    "4. **使用有意義的檔名** - `game_save.txt` 比 `file1.txt` 好！📄\n",
    "5. **檢查檔案是否存在** - 開啟前使用 `os.path.exists()`！🔍\n",
    "6. **正確處理路徑** - 使用 `os.path.join()` 確保跨平台相容性！🛤️"
   ]
  },
  {
   "cell_type": "markdown",
   "metadata": {},
   "source": [
    "## 真實世界的應用 🌍\n",
    "\n",
    "檔案操作在現代程式設計中無所不在：\n",
    "- **遊戲**：存檔、設定、高分、關卡資料 🎮\n",
    "- **社群媒體**：聊天記錄、使用者檔案、媒體檔案 📱\n",
    "- **學校**：作業繳交、成績簿、出勤記錄 📚\n",
    "- **商業**：資料庫、報告、備份、設定 💼\n",
    "- **創意**：照片編輯、音樂製作、影片剪輯 🎨\n",
    "\n",
    "你學的不只是檔案操作 - 你學的是如何讓程式記住、儲存和分享資訊！這就是數位記憶的製作方式！🧠✨\n",
    "\n",
    "掌握這些概念，你就能建立可以保存遊戲進度、分析資料、備份重要檔案等等的程式！🚀💫\n",
    "\n",
    "記住：手機上的每個應用程式、玩的每個遊戲、造訪的每個網站 - 它們都使用檔案操作來儲存和檢索資訊。你正在學習數位儲存的基礎！🏗️📁"
   ]
  },
  {
   "cell_type": "markdown",
   "metadata": {},
   "source": [
    "## 🎯 挑戰時間！\n",
    "\n",
    "現在輪到你了！試著完成以下挑戰：\n",
    "\n",
    "1. **建立個人筆記本** - 寫一個程式讓你可以新增、讀取和搜尋筆記\n",
    "2. **製作購物清單管理器** - 可以新增、刪除和標記完成的項目\n",
    "3. **建立簡單的通訊錄** - 儲存朋友的姓名、電話和email\n",
    "4. **製作詞頻統計器** - 分析任何文字檔案中最常出現的單字\n",
    "5. **建立備份工具** - 複製重要檔案到備份資料夾\n",
    "\n",
    "記住，每個偉大的程式都是從小小的檔案操作開始的！🚀\n",
    "\n",
    "## 恭喜你！🎉\n",
    "\n",
    "你已經掌握了 Python 檔案操作的基礎！現在你可以：\n",
    "- 讀取和寫入各種檔案 📖✍️\n",
    "- 處理檔案錯誤 🛡️\n",
    "- 建立實用的檔案管理程式 🔧\n",
    "- 分析和處理文字資料 📊\n",
    "\n",
    "繼續練習，你很快就會成為檔案操作的專家！💪✨"
   ]
  }
 ],
 "metadata": {
  "kernelspec": {
   "display_name": "Python 3",
   "language": "python",
   "name": "python3"
  },
  "language_info": {
   "codemirror_mode": {
    "name": "ipython",
    "version": 3
   },
   "file_extension": ".py",
   "mimetype": "text/x-python",
   "name": "python",
   "nbconvert_exporter": "python",
   "pygments_lexer": "ipython3",
   "version": "3.9.11"
  }
 },
 "nbformat": 4,
 "nbformat_minor": 2
}
