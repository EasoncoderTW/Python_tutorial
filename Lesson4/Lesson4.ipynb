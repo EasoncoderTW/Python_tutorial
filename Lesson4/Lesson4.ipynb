{
 "cells": [
  {
   "cell_type": "markdown",
   "metadata": {},
   "source": [
    "# Lesson 4: Python's Decision Making Powers! 🤖🧠\n",
    "\n",
    "Welcome to the world of smart programming! Today we're learning how to make Python think and make decisions, just like you do every day! 🎯\n",
    "\n",
    "## Why Do Programs Need to Make Decisions? 🤔\n",
    "\n",
    "Think about your daily life:\n",
    "- \"Should I bring an umbrella?\" (Check if it's raining)\n",
    "- \"Can I buy this game?\" (Check if you have enough money)\n",
    "- \"Am I old enough to watch this movie?\" (Check your age)\n",
    "\n",
    "Python can make these kinds of decisions too! Let's give your programs some brain power! 🧠"
   ]
  },
  {
   "cell_type": "markdown",
   "metadata": {},
   "source": [
    "## The Decision-Making Trio: if, elif, else 🎭\n",
    "\n",
    "### The if Statement: The Gatekeeper 🚪\n",
    "The `if` statement is like a bouncer at a club - it only lets code through if the condition is True!"
   ]
  },
  {
   "cell_type": "code",
   "execution_count": null,
   "metadata": {},
   "outputs": [
    {
     "name": "stdout",
     "output_type": "stream",
     "text": [
      "x is greater than 5\n"
     ]
    }
   ],
   "source": [
    "# Gaming example: Can you level up?\n",
    "player_experience = 1500\n",
    "required_exp = 1000\n",
    "\n",
    "if player_experience >= required_exp:\n",
    "    print(\"🎉 Congratulations! You leveled up!\")\n",
    "    print(\"New abilities unlocked! 🔓\")\n",
    "\n",
    "# Social media example: Can you post?\n",
    "followers = 250\n",
    "if followers >= 100:\n",
    "    print(\"✨ You can now post stories!\")\n",
    "    print(\"Your influence is growing! 📈\")"
   ]
  },
  {
   "cell_type": "markdown",
   "metadata": {},
   "source": [
    "### The elif Statement: The Multiple Choice Master 📝\n",
    "`elif` (else if) is like a multiple choice question - it checks different possibilities!"
   ]
  },
  {
   "cell_type": "code",
   "execution_count": null,
   "metadata": {},
   "outputs": [
    {
     "name": "stdout",
     "output_type": "stream",
     "text": [
      "x is greater than 5 but less than or equal to 15\n"
     ]
    }
   ],
   "source": [
    "# Grade checker with personality!\n",
    "test_score = 87\n",
    "\n",
    "if test_score >= 90:\n",
    "    print(\"🏆 AMAZING! You're a superstar!\")\n",
    "elif test_score >= 80:\n",
    "    print(\"👍 Great job! You're doing awesome!\")\n",
    "elif test_score >= 70:\n",
    "    print(\"😊 Good work! Keep it up!\")\n",
    "elif test_score >= 60:\n",
    "    print(\"😐 Not bad, but you can do better!\")\n",
    "else:\n",
    "    print(\"😢 Oops! Time to study harder!\")\n",
    "\n",
    "# Gaming difficulty selector\n",
    "player_level = 15\n",
    "\n",
    "if player_level >= 50:\n",
    "    difficulty = \"LEGENDARY 🔥\"\n",
    "elif player_level >= 30:\n",
    "    difficulty = \"EXPERT 💪\"\n",
    "elif player_level >= 15:\n",
    "    difficulty = \"INTERMEDIATE 🎯\"\n",
    "elif player_level >= 5:\n",
    "    difficulty = \"BEGINNER 🌱\"\n",
    "else:\n",
    "    difficulty = \"NEWBIE 🐣\"\n",
    "\n",
    "print(f\"Recommended difficulty: {difficulty}\")"
   ]
  },
  {
   "cell_type": "markdown",
   "metadata": {},
   "source": [
    "### The else Statement: The Safety Net 🛡️\n",
    "`else` is like your backup plan - it catches everything that didn't match the other conditions!"
   ]
  },
  {
   "cell_type": "code",
   "execution_count": null,
   "metadata": {},
   "outputs": [
    {
     "name": "stdout",
     "output_type": "stream",
     "text": [
      "x is greater than 2 but less than or equal to 5\n"
     ]
    }
   ],
   "source": [
    "# Weather outfit selector\n",
    "temperature = 25  # in Celsius\n",
    "\n",
    "if temperature > 30:\n",
    "    print(\"🌞 It's hot! Wear shorts and a t-shirt!\")\n",
    "elif temperature > 20:\n",
    "    print(\"😎 Perfect weather! Wear whatever you like!\")\n",
    "elif temperature > 10:\n",
    "    print(\"🧥 A bit cool, grab a light jacket!\")\n",
    "else:\n",
    "    print(\"🧤 Brr! Bundle up with warm clothes!\")"
   ]
  },
  {
   "cell_type": "markdown",
   "metadata": {},
   "source": [
    "## Comparison Operators: The Judges ⚖️\n",
    "\n",
    "These operators help Python compare values and make decisions!\n",
    "\n",
    "- `==`: Equal to\n",
    "- `!=`: Not equal to\n",
    "- `>`: Greater than\n",
    "- `<`: Less than\n",
    "- `>=`: Greater than or equal to\n",
    "- `<=`: Less than or equal to"
   ]
  },
  {
   "cell_type": "code",
   "execution_count": null,
   "metadata": {},
   "outputs": [
    {
     "name": "stdout",
     "output_type": "stream",
     "text": [
      "False\n",
      "True\n",
      "True\n",
      "False\n",
      "True\n",
      "False\n",
      "True\n"
     ]
    }
   ],
   "source": [
    "# Social media comparison\n",
    "my_followers = 150\n",
    "friend_followers = 120\n",
    "\n",
    "print(f\"Do I have more followers? {my_followers > friend_followers}\")  # True\n",
    "print(f\"Do we have the same followers? {my_followers == friend_followers}\")  # False\n",
    "print(f\"Do I have fewer followers? {my_followers < friend_followers}\")  # False\n",
    "\n",
    "# Gaming stats comparison\n",
    "my_score = 9500\n",
    "high_score = 10000\n",
    "\n",
    "print(f\"Did I beat the high score? {my_score > high_score}\")  # False\n",
    "print(f\"Am I close to the high score? {my_score >= (high_score - 1000)}\")  # True\n",
    "print(f\"Do I need to improve? {my_score != high_score}\")  # True"
   ]
  },
  {
   "cell_type": "markdown",
   "metadata": {},
   "source": [
    "## Logical Operators: The Combiners 🔗\n",
    "\n",
    "These help you combine multiple conditions - like asking multiple questions at once!\n",
    "\n",
    "- `and`: Both conditions must be True! 🎯\n",
    "- `or`: At least one condition must be True! 🤝\n",
    "- `not`: Flips True to False and False to True! 🔄"
   ]
  },
  {
   "cell_type": "code",
   "execution_count": null,
   "metadata": {},
   "outputs": [],
   "source": [
    "# AND: Can you drive?\n",
    "age = 17\n",
    "has_license = True\n",
    "\n",
    "if age >= 16 and has_license:\n",
    "    print(\"🚗 You can drive! Be safe!\")\n",
    "else:\n",
    "    print(\"🚫 Sorry, you can't drive yet!\")\n",
    "\n",
    "# OR: Can you get a discount?\n",
    "is_student = False\n",
    "is_senior = False\n",
    "is_member = True\n",
    "\n",
    "if is_student or is_senior or is_member:\n",
    "    print(\"🎊 You get a 20% discount!\")\n",
    "else:\n",
    "    print(\"😔 No discount available, but thanks for shopping!\")\n",
    "\n",
    "# NOT: Security check\n",
    "is_banned = False\n",
    "is_suspicious = False\n",
    "\n",
    "if not is_banned and not is_suspicious:\n",
    "    print(\"✅ Access granted! Welcome!\")\n",
    "else:\n",
    "    print(\"⛔ Access denied for security reasons!\")"
   ]
  },
  {
   "cell_type": "markdown",
   "metadata": {},
   "source": [
    "## Nested Conditions: The Decision Tree 🌳\n",
    "\n",
    "Sometimes you need to make decisions within decisions!"
   ]
  },
  {
   "cell_type": "code",
   "execution_count": null,
   "metadata": {},
   "outputs": [
    {
     "name": "stdout",
     "output_type": "stream",
     "text": [
      "x is greater than 5 and y is greater than 15\n"
     ]
    }
   ],
   "source": [
    "# Movie recommendation system\n",
    "age = 16\n",
    "likes_action = True\n",
    "likes_comedy = False\n",
    "\n",
    "if age >= 13:\n",
    "    if likes_action:\n",
    "        if age >= 17:\n",
    "            print(\"🎬 Watch 'Action Hero R-Rated'!\")\n",
    "        else:\n",
    "            print(\"🎬 Watch 'Teen Action Adventure'!\")\n",
    "    elif likes_comedy:\n",
    "        print(\"🎬 Watch 'Funny High School'!\")\n",
    "    else:\n",
    "        print(\"🎬 Watch 'Popular Teen Drama'!\")\n",
    "else:\n",
    "    print(\"🎬 Watch 'Family Fun Adventure'!\")\n",
    "\n",
    "# Gaming: Character class selector\n",
    "strength = 8\n",
    "intelligence = 6\n",
    "agility = 9\n",
    "\n",
    "if strength >= 7:\n",
    "    if agility >= 8:\n",
    "        character_class = \"🗡️ PALADIN - Strong and Fast!\"\n",
    "    else:\n",
    "        character_class = \"🛡️ WARRIOR - Pure Strength!\"\n",
    "elif intelligence >= 7:\n",
    "    if agility >= 8:\n",
    "        character_class = \"🏹 RANGER - Smart and Agile!\"\n",
    "    else:\n",
    "        character_class = \"🔮 WIZARD - Master of Magic!\"\n",
    "else:\n",
    "    character_class = \"🗡️ ROGUE - Quick and Sneaky!\"\n",
    "\n",
    "print(f\"Your character class: {character_class}\")"
   ]
  },
  {
   "cell_type": "markdown",
   "metadata": {},
   "source": [
    "## Epic Challenges - Level Up Your Skills! 🚀\n",
    "\n",
    "### Challenge 1: The Password Strength Checker 🔐\n",
    "Create a program that checks if a password is strong enough for a gaming account!"
   ]
  },
  {
   "cell_type": "code",
   "execution_count": null,
   "metadata": {},
   "outputs": [
    {
     "name": "stdout",
     "output_type": "stream",
     "text": [
      "The number is positive\n"
     ]
    }
   ],
   "source": [
    "# Challenge 1: Your solution here!\n",
    "password = \"SuperGamer123!\"\n",
    "length = len(password)\n",
    "has_number = any(char.isdigit() for char in password)\n",
    "has_uppercase = any(char.isupper() for char in password)\n",
    "has_special = any(char in \"!@#$%^&*\" for char in password)\n",
    "\n",
    "if length >= 12 and has_number and has_uppercase and has_special:\n",
    "    print(\"🔒 ULTRA STRONG! Your account is Fort Knox level secure!\")\n",
    "elif length >= 8 and has_number and has_uppercase:\n",
    "    print(\"🔐 STRONG! Good protection for your account!\")\n",
    "elif length >= 6 and has_number:\n",
    "    print(\"🔑 MEDIUM! Consider adding uppercase and special characters!\")\n",
    "else:\n",
    "    print(\"🚫 WEAK! Your account is vulnerable to hackers!\")"
   ]
  },
  {
   "cell_type": "markdown",
   "metadata": {},
   "source": [
    "### Challenge 2: The Gaming Store Checkout 🛒\n",
    "Calculate the total price with discounts and taxes!"
   ]
  },
  {
   "cell_type": "code",
   "execution_count": null,
   "metadata": {},
   "outputs": [
    {
     "name": "stdout",
     "output_type": "stream",
     "text": [
      "The number is between 10 and 20\n"
     ]
    }
   ],
   "source": [
    "# Challenge 2: Your solution here!\n",
    "game_price = 59.99\n",
    "dlc_price = 19.99\n",
    "is_member = True\n",
    "is_student = False\n",
    "student_discount = 0.10  # 10%\n",
    "member_discount = 0.05   # 5%\n",
    "tax_rate = 0.08          # 8%\n",
    "\n",
    "total = game_price + dlc_price\n",
    "\n",
    "if is_student:\n",
    "    total = total * (1 - student_discount)\n",
    "    print(f\"💰 Student discount applied! Saved ${(game_price + dlc_price) * student_discount:.2f}\")\n",
    "elif is_member:\n",
    "    total = total * (1 - member_discount)\n",
    "    print(f\"💰 Member discount applied! Saved ${(game_price + dlc_price) * member_discount:.2f}\")\n",
    "\n",
    "total_with_tax = total * (1 + tax_rate)\n",
    "print(f\"🎮 Final total: ${total_with_tax:.2f}\")"
   ]
  },
  {
   "cell_type": "markdown",
   "metadata": {},
   "source": [
    "### Challenge 3: The Social Media Mood Detector 📱\n",
    "Analyze a social media post and determine the mood!"
   ]
  },
  {
   "cell_type": "code",
   "execution_count": null,
   "metadata": {},
   "outputs": [
    {
     "name": "stdout",
     "output_type": "stream",
     "text": [
      "Teenager\n"
     ]
    }
   ],
   "source": [
    "# Challenge 3: Your solution here!\n",
    "post_text = \"I'm so excited about the new game release! Can't wait to play with friends! 🎮🎉\"\n",
    "likes = 50\n",
    "comments = 15\n",
    "\n",
    "has_positive_words = any(word in post_text.lower() for word in [\"excited\", \"happy\", \"love\", \"amazing\", \"great\"])\n",
    "has_negative_words = any(word in post_text.lower() for word in [\"sad\", \"angry\", \"hate\", \"terrible\", \"awful\"])\n",
    "has_emojis = any(emoji in post_text for emoji in [\"😊\", \"😍\", \"🎉\", \"❤️\", \"😢\", \"😡\"])\n",
    "\n",
    "if has_positive_words and likes > 20:\n",
    "    if has_emojis:\n",
    "        mood = \"🌟 SUPER POSITIVE! This post is spreading good vibes!\"\n",
    "    else:\n",
    "        mood = \"😊 POSITIVE! People are loving this!\"\n",
    "elif has_negative_words or likes < 5:\n",
    "    mood = \"😔 NEGATIVE! This post might need some support!\"\n",
    "else:\n",
    "    mood = \"😐 NEUTRAL! A pretty standard post!\"\n",
    "\n",
    "print(f\"Post mood analysis: {mood}\")"
   ]
  },
  {
   "cell_type": "markdown",
   "metadata": {},
   "source": [
    "### Challenge 4: The Gaming Tournament Bracket 🏆\n",
    "Determine tournament placement based on player stats!"
   ]
  },
  {
   "cell_type": "code",
   "execution_count": null,
   "metadata": {},
   "outputs": [],
   "source": [
    "# Challenge 4: Your solution here!\n",
    "wins = 25\n",
    "losses = 8\n",
    "kill_death_ratio = 2.3\n",
    "team_player_rating = 8.5  # out of 10\n",
    "\n",
    "win_rate = wins / (wins + losses)\n",
    "\n",
    "if win_rate >= 0.8 and kill_death_ratio >= 2.0 and team_player_rating >= 8.0:\n",
    "    bracket = \"🏆 CHAMPION TIER - You're tournament ready!\"\n",
    "elif win_rate >= 0.7 and kill_death_ratio >= 1.5:\n",
    "    bracket = \"💎 DIAMOND TIER - Almost at the top!\"\n",
    "elif win_rate >= 0.6 and kill_death_ratio >= 1.0:\n",
    "    bracket = \"🥇 GOLD TIER - Solid performance!\"\n",
    "elif win_rate >= 0.5:\n",
    "    bracket = \"🥈 SILVER TIER - Keep improving!\"\n",
    "else:\n",
    "    bracket = \"🥉 BRONZE TIER - Practice makes perfect!\"\n",
    "\n",
    "print(f\"Tournament bracket: {bracket}\")\n",
    "print(f\"Win rate: {win_rate:.1%}\")"
   ]
  },
  {
   "cell_type": "markdown",
   "metadata": {},
   "source": [
    "## Bonus Practice Exercises 🎯\n",
    "\n",
    "### Exercise 1: Grade Checker (Updated with Style!)\n",
    "Write a program that takes a score (0-100) and prints the corresponding grade with motivational messages!"
   ]
  },
  {
   "cell_type": "code",
   "execution_count": null,
   "metadata": {},
   "outputs": [],
   "source": [
    "# Exercise 1: Your solution here!\n",
    "score = 85\n",
    "\n",
    "if score >= 90:\n",
    "    print(\"🌟 Grade: A - You're absolutely crushing it!\")\n",
    "elif score >= 80:\n",
    "    print(\"🎉 Grade: B - Great job! Keep up the awesome work!\")\n",
    "elif score >= 70:\n",
    "    print(\"👍 Grade: C - Good effort! You're on the right track!\")\n",
    "elif score >= 60:\n",
    "    print(\"😊 Grade: D - You passed! Time to level up your study game!\")\n",
    "else:\n",
    "    print(\"😅 Grade: F - No worries! Every expert was once a beginner!\")"
   ]
  },
  {
   "cell_type": "markdown",
   "metadata": {},
   "source": [
    "### Exercise 2: Gaming Level Recommender\n",
    "Based on playtime and skill level, recommend what game mode to play!"
   ]
  },
  {
   "cell_type": "code",
   "execution_count": null,
   "metadata": {},
   "outputs": [],
   "source": [
    "# Exercise 2: Your solution here!\n",
    "playtime_hours = 150\n",
    "skill_level = 7  # out of 10\n",
    "has_friends_online = True\n",
    "\n",
    "if playtime_hours >= 100 and skill_level >= 8:\n",
    "    if has_friends_online:\n",
    "        recommendation = \"🔥 RANKED TEAM MODE - Dominate with your squad!\"\n",
    "    else:\n",
    "        recommendation = \"👑 SOLO RANKED - Show off your skills!\"\n",
    "elif playtime_hours >= 50 and skill_level >= 6:\n",
    "    recommendation = \"🎯 COMPETITIVE MODE - Time to test your abilities!\"\n",
    "elif playtime_hours >= 20:\n",
    "    recommendation = \"😊 CASUAL MODE - Have fun and learn!\"\n",
    "else:\n",
    "    recommendation = \"🌱 TUTORIAL MODE - Master the basics first!\"\n",
    "\n",
    "print(f\"Game mode recommendation: {recommendation}\")"
   ]
  },
  {
   "cell_type": "markdown",
   "metadata": {},
   "source": [
    "### Exercise 3: Smart Phone Battery Optimizer 📱\n",
    "Create a battery management system that gives advice based on battery level and usage!"
   ]
  },
  {
   "cell_type": "code",
   "execution_count": null,
   "metadata": {},
   "outputs": [],
   "source": [
    "# Exercise 3: Your solution here!\n",
    "battery_level = 35  # percentage\n",
    "is_charging = False\n",
    "heavy_usage = True  # gaming, video streaming, etc.\n",
    "\n",
    "if battery_level <= 10:\n",
    "    if is_charging:\n",
    "        advice = \"⚡ CRITICAL - Keep charging! Avoid heavy usage!\"\n",
    "    else:\n",
    "        advice = \"🚨 EMERGENCY - Charge NOW or phone will die!\"\n",
    "elif battery_level <= 20:\n",
    "    if heavy_usage:\n",
    "        advice = \"📱 LOW BATTERY - Switch to power saving mode!\"\n",
    "    else:\n",
    "        advice = \"🔋 LOW - Consider charging when convenient!\"\n",
    "elif battery_level <= 50:\n",
    "    if heavy_usage and not is_charging:\n",
    "        advice = \"⚠️ MODERATE - Heavy usage will drain battery fast!\"\n",
    "    else:\n",
    "        advice = \"👍 MODERATE - You're doing fine!\"\n",
    "else:\n",
    "    advice = \"💚 GOOD - Enjoy your fully charged phone!\"\n",
    "\n",
    "print(f\"Battery advice: {advice}\")\n",
    "print(f\"Current level: {battery_level}%\")"
   ]
  },
  {
   "cell_type": "markdown",
   "metadata": {},
   "source": [
    "## Pro Tips for Decision Masters! 🎯\n",
    "\n",
    "1. **Keep it simple** - Don't make your conditions too complex\n",
    "2. **Use meaningful variable names** - `is_student` is better than `s`\n",
    "3. **Test edge cases** - What happens with extreme values?\n",
    "4. **Use parentheses** - Make complex conditions clear: `(a and b) or (c and d)`\n",
    "5. **Consider the order** - Put the most likely conditions first for better performance\n",
    "\n",
    "## Real-World Applications 🌍\n",
    "\n",
    "These conditional statements are everywhere:\n",
    "- **Games**: Character abilities, level progression, damage calculations\n",
    "- **Apps**: User permissions, feature access, notifications\n",
    "- **Websites**: Login systems, shopping carts, content filtering\n",
    "- **AI**: Decision trees, chatbots, recommendation systems\n",
    "\n",
    "You're not just learning Python - you're learning how to make smart, responsive programs that react to the world around them! 🚀\n",
    "\n",
    "Master these concepts and you'll be able to create programs that think, decide, and respond just like you do! 🧠✨"
   ]
  }
 ],
 "metadata": {
  "kernelspec": {
   "display_name": "Python 3",
   "language": "python",
   "name": "python3"
  },
  "language_info": {
   "codemirror_mode": {
    "name": "ipython",
    "version": 3
   },
   "file_extension": ".py",
   "mimetype": "text/x-python",
   "name": "python",
   "nbconvert_exporter": "python",
   "pygments_lexer": "ipython3",
   "version": "3.9.11"
  }
 },
 "nbformat": 4,
 "nbformat_minor": 2
}
