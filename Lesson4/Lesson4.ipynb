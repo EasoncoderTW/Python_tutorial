{
 "cells": [
  {
   "cell_type": "markdown",
   "metadata": {},
   "source": [
    "# Lesson 4: Conditional Statements\n",
    "\n",
    "In this lesson, we will cover the basics of conditional statements in Python, including the usage of `if`, `elif`, and `else` statements, comparison and logical operators, and nested conditional statements.\n",
    "\n",
    "## Using `if`, `elif`, and `else` Statements\n",
    "\n",
    "### If Statement\n",
    "The `if` statement evaluates a condition and executes the block of code within it if the condition is `True`."
   ]
  },
  {
   "cell_type": "code",
   "execution_count": 1,
   "metadata": {},
   "outputs": [
    {
     "name": "stdout",
     "output_type": "stream",
     "text": [
      "x is greater than 5\n"
     ]
    }
   ],
   "source": [
    "x = 10\n",
    "if x > 5:\n",
    "    print(\"x is greater than 5\")"
   ]
  },
  {
   "cell_type": "markdown",
   "metadata": {},
   "source": [
    "### Elif Statement\n",
    "The `elif` (short for \"else if\") statement allows you to check multiple conditions. If the preceding `if` condition is `False`, the `elif` condition is evaluated."
   ]
  },
  {
   "cell_type": "code",
   "execution_count": 2,
   "metadata": {},
   "outputs": [
    {
     "name": "stdout",
     "output_type": "stream",
     "text": [
      "x is greater than 5 but less than or equal to 15\n"
     ]
    }
   ],
   "source": [
    "x = 10\n",
    "if x > 15:\n",
    "    print(\"x is greater than 15\")\n",
    "elif x > 5:\n",
    "    print(\"x is greater than 5 but less than or equal to 15\")"
   ]
  },
  {
   "cell_type": "markdown",
   "metadata": {},
   "source": [
    "### Else Statement\n",
    "The `else` statement executes a block of code if none of the preceding conditions are `True`."
   ]
  },
  {
   "cell_type": "code",
   "execution_count": 3,
   "metadata": {},
   "outputs": [
    {
     "name": "stdout",
     "output_type": "stream",
     "text": [
      "x is greater than 2 but less than or equal to 5\n"
     ]
    }
   ],
   "source": [
    "x = 3\n",
    "if x > 5:\n",
    "    print(\"x is greater than 5\")\n",
    "elif x > 2:\n",
    "    print(\"x is greater than 2 but less than or equal to 5\")\n",
    "else:\n",
    "    print(\"x is 2 or less\")"
   ]
  },
  {
   "cell_type": "markdown",
   "metadata": {},
   "source": [
    "## Comparison and Logical Operators\n",
    "\n",
    "### Comparison Operators\n",
    "Comparison operators are used to compare values. They return `True` or `False`.\n",
    "- `==`: Equal to\n",
    "- `!=`: Not equal to\n",
    "- `>`: Greater than\n",
    "- `<`: Less than\n",
    "- `>=`: Greater than or equal to\n",
    "- `<=`: Less than or equal to\n",
    "\n",
    "### Logical Operators\n",
    "Logical operators are used to combine conditional statements.\n",
    "- `and`: Returns `True` if both conditions are `True`\n",
    "- `or`: Returns `True` if at least one condition is `True`\n",
    "- `not`: Returns `True` if the condition is `False`\n",
    "\n",
    "### Examples"
   ]
  },
  {
   "cell_type": "code",
   "execution_count": 4,
   "metadata": {},
   "outputs": [
    {
     "name": "stdout",
     "output_type": "stream",
     "text": [
      "False\n",
      "True\n",
      "True\n",
      "False\n",
      "True\n",
      "False\n",
      "True\n"
     ]
    }
   ],
   "source": [
    "# Comparison operators\n",
    "a = 10\n",
    "b = 5\n",
    "print(a == b)  # False\n",
    "print(a != b)  # True\n",
    "print(a > b)   # True\n",
    "print(a < b)   # False\n",
    "\n",
    "# Logical operators\n",
    "x = 7\n",
    "print(x > 5 and x < 10)  # True\n",
    "print(x < 5 or x > 10)   # False\n",
    "print(not (x < 5))       # True"
   ]
  },
  {
   "cell_type": "markdown",
   "metadata": {},
   "source": [
    "## Nested Conditional Statements\n",
    "\n",
    "Nested conditional statements are `if` statements inside other `if` statements. This allows for more complex condition checking."
   ]
  },
  {
   "cell_type": "code",
   "execution_count": 5,
   "metadata": {},
   "outputs": [
    {
     "name": "stdout",
     "output_type": "stream",
     "text": [
      "x is greater than 5 and y is greater than 15\n"
     ]
    }
   ],
   "source": [
    "x = 10\n",
    "y = 20\n",
    "if x > 5:\n",
    "    if y > 15:\n",
    "        print(\"x is greater than 5 and y is greater than 15\")\n",
    "    else:\n",
    "        print(\"x is greater than 5 but y is 15 or less\")\n",
    "else:\n",
    "    print(\"x is 5 or less\")"
   ]
  },
  {
   "cell_type": "markdown",
   "metadata": {},
   "source": [
    "## Examples and Exercises\n",
    "\n",
    "### Example 1: Basic Conditional Statements\n",
    "Write a program that checks if a number is positive, negative, or zero."
   ]
  },
  {
   "cell_type": "code",
   "execution_count": 6,
   "metadata": {},
   "outputs": [
    {
     "name": "stdout",
     "output_type": "stream",
     "text": [
      "The number is positive\n"
     ]
    }
   ],
   "source": [
    "num = 7\n",
    "if num > 0:\n",
    "    print(\"The number is positive\")\n",
    "elif num < 0:\n",
    "    print(\"The number is negative\")\n",
    "else:\n",
    "    print(\"The number is zero\")"
   ]
  },
  {
   "cell_type": "markdown",
   "metadata": {},
   "source": [
    "### Example 2: Logical Operators\n",
    "Write a program that checks if a number is between 10 and 20 (inclusive)."
   ]
  },
  {
   "cell_type": "code",
   "execution_count": 7,
   "metadata": {},
   "outputs": [
    {
     "name": "stdout",
     "output_type": "stream",
     "text": [
      "The number is between 10 and 20\n"
     ]
    }
   ],
   "source": [
    "num = 15\n",
    "if num >= 10 and num <= 20:\n",
    "    print(\"The number is between 10 and 20\")\n",
    "else:\n",
    "    print(\"The number is not between 10 and 20\")"
   ]
  },
  {
   "cell_type": "markdown",
   "metadata": {},
   "source": [
    "### Example 3: Nested Conditional Statements\n",
    "Write a program that categorizes a person's age into child, teenager, or adult."
   ]
  },
  {
   "cell_type": "code",
   "execution_count": 8,
   "metadata": {},
   "outputs": [
    {
     "name": "stdout",
     "output_type": "stream",
     "text": [
      "Teenager\n"
     ]
    }
   ],
   "source": [
    "age = 16\n",
    "if age < 13:\n",
    "    print(\"Child\")\n",
    "elif age < 20:\n",
    "    print(\"Teenager\")\n",
    "else:\n",
    "    print(\"Adult\")"
   ]
  },
  {
   "cell_type": "markdown",
   "metadata": {},
   "source": [
    "#### Exercise 1: Grade Checker\n",
    "Write a program that takes a score (0-100) and prints the corresponding grade:\n",
    "- 90-100: A\n",
    "- 80-89: B\n",
    "- 70-79: C\n",
    "- 60-69: D\n",
    "- 0-59: F"
   ]
  },
  {
   "cell_type": "code",
   "execution_count": 9,
   "metadata": {},
   "outputs": [],
   "source": [
    "# Solution"
   ]
  },
  {
   "cell_type": "markdown",
   "metadata": {},
   "source": [
    "#### Exercise 2: Even or Odd\n",
    "Write a program that checks if a number is even or odd."
   ]
  },
  {
   "cell_type": "code",
   "execution_count": 10,
   "metadata": {},
   "outputs": [],
   "source": [
    "# Solution"
   ]
  },
  {
   "cell_type": "markdown",
   "metadata": {},
   "source": [
    "#### Exercise 3: Leap Year Checker\n",
    "Write a program that checks if a year is a leap year.\n",
    "- A year is a leap year if it is divisible by 4, but not divisible by 100, except if it is also divisible by 400."
   ]
  },
  {
   "cell_type": "code",
   "execution_count": 11,
   "metadata": {},
   "outputs": [],
   "source": [
    "# Solution"
   ]
  }
 ],
 "metadata": {
  "kernelspec": {
   "display_name": "Python 3",
   "language": "python",
   "name": "python3"
  },
  "language_info": {
   "codemirror_mode": {
    "name": "ipython",
    "version": 3
   },
   "file_extension": ".py",
   "mimetype": "text/x-python",
   "name": "python",
   "nbconvert_exporter": "python",
   "pygments_lexer": "ipython3",
   "version": "3.9.11"
  }
 },
 "nbformat": 4,
 "nbformat_minor": 2
}
