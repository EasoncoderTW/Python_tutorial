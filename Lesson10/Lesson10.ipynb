{
 "cells": [
  {
   "cell_type": "markdown",
   "metadata": {},
   "source": [
    "## Advanced Topics in Classes and Objects"
   ]
  },
  {
   "cell_type": "code",
   "execution_count": 9,
   "metadata": {},
   "outputs": [
    {
     "name": "stdout",
     "output_type": "stream",
     "text": [
      "Person(name='{self.name}', age={self.age}) delete.\n",
      "Person(name='Alice', age=30)\n",
      "Alice, 30 years old\n"
     ]
    }
   ],
   "source": [
    "class Person:\n",
    "    def __init__(self, name, age): # constructor\n",
    "        self.name = name\n",
    "        self.age = age\n",
    "    \n",
    "    def __repr__(self):\n",
    "        return f\"Person(name='{self.name}', age={self.age})\"\n",
    "    \n",
    "    def __str__(self):\n",
    "        return f\"{self.name}, {self.age} years old\"\n",
    "\n",
    "    def __del__(self): # destructor\n",
    "        print(\"Person(name='{self.name}', age={self.age}) delete.\")\n",
    "    \n",
    "    def __call__(self): # implement __call__ method to let the object callable\n",
    "        print(\"This object is callable.\")\n",
    "        \n",
    "        \n",
    "person = Person(\"Alice\", 30)\n",
    "print(repr(person))  # Output: Person(name='Alice', age=30)\n",
    "print(person)        # Output: Alice, 30 years old"
   ]
  },
  {
   "cell_type": "code",
   "execution_count": 10,
   "metadata": {},
   "outputs": [
    {
     "name": "stdout",
     "output_type": "stream",
     "text": [
      "Person(name='{self.name}', age={self.age}) delete.\n",
      "This object is callable.\n"
     ]
    }
   ],
   "source": [
    "person = Person(\"Alice\", 30)\n",
    "person()"
   ]
  },
  {
   "cell_type": "markdown",
   "metadata": {},
   "source": [
    "### `__call__`"
   ]
  },
  {
   "cell_type": "code",
   "execution_count": 11,
   "metadata": {},
   "outputs": [
    {
     "name": "stdout",
     "output_type": "stream",
     "text": [
      "1\n",
      "2\n"
     ]
    }
   ],
   "source": [
    "class Counter:\n",
    "    def __init__(self):\n",
    "        self.count = 0\n",
    "    \n",
    "    def __call__(self):\n",
    "        self.count += 1\n",
    "        return self.count\n",
    "\n",
    "counter = Counter()\n",
    "print(counter())  # Output: 1\n",
    "print(counter())  # Output: 2"
   ]
  },
  {
   "cell_type": "markdown",
   "metadata": {},
   "source": [
    "### `__add__`、`__mul__` ... Operation\n",
    "operator overloading"
   ]
  },
  {
   "cell_type": "code",
   "execution_count": 18,
   "metadata": {},
   "outputs": [
    {
     "name": "stdout",
     "output_type": "stream",
     "text": [
      "Vector(6, 8)\n",
      "Vector(2, 2)\n"
     ]
    }
   ],
   "source": [
    "class Vector:\n",
    "    def __init__(self, x, y):\n",
    "        self.x = x\n",
    "        self.y = y\n",
    "    \n",
    "    def __add__(self, other):\n",
    "        return Vector(self.x + other.x, self.y + other.y)\n",
    "\n",
    "    def __sub__(self, other):\n",
    "        return Vector(self.x - other.x, self.y - other.y)\n",
    "    \n",
    "    def __repr__(self):\n",
    "        return f\"Vector({self.x}, {self.y})\"\n",
    "\n",
    "v1 = Vector(2, 3)\n",
    "v2 = Vector(4, 5)\n",
    "v3 = v1 + v2\n",
    "#v3 = v1.__add__(v2)\n",
    "#v3 = Vector.__add__(v1,v2)\n",
    "print(v3)  # Output: Vector(6, 8)\n",
    "\n",
    "v4 = v2 - v1\n",
    "print(v4)"
   ]
  },
  {
   "cell_type": "markdown",
   "metadata": {},
   "source": [
    "### `__getitem__` and `__setitem__`\n",
    "\n",
    "These methods allow objects to be used with indexing and item assignment.\n",
    "\n",
    "### `__len__`\n",
    "\n",
    "The `__len__` method allows you to define the behavior of the `len()` function for your objects."
   ]
  },
  {
   "cell_type": "code",
   "execution_count": 25,
   "metadata": {},
   "outputs": [
    {
     "name": "stdout",
     "output_type": "stream",
     "text": [
      "1\n",
      "4\n",
      "3\n"
     ]
    }
   ],
   "source": [
    "class MyList:\n",
    "    def __init__(self,name):\n",
    "        self.name = name\n",
    "        self.items = []\n",
    "    \n",
    "    def __getitem__(self, index):\n",
    "        return self.items[index]\n",
    "    \n",
    "    def __setitem__(self, index, value):\n",
    "        self.items[index] = value\n",
    "    \n",
    "    def __len__(self):\n",
    "        return len(self.items)\n",
    "\n",
    "my_list = MyList(\"MyList\")\n",
    "my_list.items = [1, 2, 3]\n",
    "print(my_list[0])  # Output: 1\n",
    "my_list[1] = 4\n",
    "print(my_list[1])  # Output: 4\n",
    "\n",
    "print(len(my_list))"
   ]
  },
  {
   "cell_type": "markdown",
   "metadata": {},
   "source": [
    "### `__iter__` and `__next__`\n",
    "\n",
    "These methods allow objects to be used as iterators."
   ]
  },
  {
   "cell_type": "code",
   "execution_count": 38,
   "metadata": {},
   "outputs": [
    {
     "name": "stdout",
     "output_type": "stream",
     "text": [
      "./text_1.txt\n",
      "./text_2.txt\n",
      "./text_3.txt\n"
     ]
    }
   ],
   "source": [
    "class MyRange:\n",
    "    def __init__(self, start, end):\n",
    "        self.path = \"./text_{:d}.txt\"\n",
    "        self.current = start\n",
    "        self.end = end\n",
    "    \n",
    "    def __iter__(self):\n",
    "        return self\n",
    "    \n",
    "    def __next__(self):\n",
    "        if self.current >= self.end:\n",
    "            raise StopIteration\n",
    "        current = self.current\n",
    "        self.current += 1\n",
    "        return self.path.format(current)\n",
    "\n",
    "for file_name in MyRange(1, 4):\n",
    "    print(file_name)"
   ]
  }
 ],
 "metadata": {
  "kernelspec": {
   "display_name": "Python 3",
   "language": "python",
   "name": "python3"
  },
  "language_info": {
   "codemirror_mode": {
    "name": "ipython",
    "version": 3
   },
   "file_extension": ".py",
   "mimetype": "text/x-python",
   "name": "python",
   "nbconvert_exporter": "python",
   "pygments_lexer": "ipython3",
   "version": "3.9.11"
  }
 },
 "nbformat": 4,
 "nbformat_minor": 2
}
