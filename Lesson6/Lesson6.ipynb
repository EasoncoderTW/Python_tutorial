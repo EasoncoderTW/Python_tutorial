{
 "cells": [
  {
   "cell_type": "markdown",
   "metadata": {},
   "source": [
    "# Lesson 6: Python's Looping Adventures! 🎢✨\n",
    "\n",
    "Welcome to the exciting world of Python loops! Today, we're learning how to make Python repeat tasks like a pro, just like you practice your favorite moves in a video game! 🎮💪\n",
    "\n",
    "## Why Are Loops Awesome? 🤔\n",
    "\n",
    "Think about your daily life:\n",
    "- \"How many push-ups can I do?\" (Repeating exercises 🏋️‍♂️)\n",
    "- \"What are the steps to bake a cake?\" (Following instructions 🍰)\n",
    "- \"How do I count my savings?\" (Adding numbers 💰)\n",
    "\n",
    "Python loops can do all this and more! Let's learn how to make your programs as efficient as you are! 🧠"
   ]
  },
  {
   "cell_type": "markdown",
   "metadata": {},
   "source": [
    "## The Basics of Loops 🌀\n",
    "\n",
    "### For Loop: The Repeater 🎯\n",
    "A `for` loop is like a playlist - it goes through each item one by one!"
   ]
  },
  {
   "cell_type": "code",
   "execution_count": null,
   "metadata": {},
   "outputs": [],
   "source": [
    "# Your favorite fruits 🍎🍌🍒\n",
    "fruits = [\"apple\", \"banana\", \"cherry\"]\n",
    "for fruit in fruits:\n",
    "    print(fruit)"
   ]
  },
  {
   "cell_type": "markdown",
   "metadata": {},
   "source": [
    "### While Loop: The Condition Checker 🔄\n",
    "A `while` loop is like a game level - it keeps going until you win!"
   ]
  },
  {
   "cell_type": "code",
   "execution_count": null,
   "metadata": {},
   "outputs": [],
   "source": [
    "# Counting stars ⭐\n",
    "count = 0\n",
    "while count < 5:\n",
    "    print(count)\n",
    "    count += 1"
   ]
  },
  {
   "cell_type": "markdown",
   "metadata": {},
   "source": [
    "## Loop Control Superpowers 🦸‍♂️\n",
    "\n",
    "### Break Statement: The Stopper 🛑\n",
    "The `break` statement is like a red light - it stops the loop immediately!"
   ]
  },
  {
   "cell_type": "code",
   "execution_count": null,
   "metadata": {},
   "outputs": [],
   "source": [
    "# Stop at 5 🚦\n",
    "for num in range(10):\n",
    "    if num == 5:\n",
    "        break\n",
    "    print(num)"
   ]
  },
  {
   "cell_type": "markdown",
   "metadata": {},
   "source": [
    "### Continue Statement: The Skipper ⏭️\n",
    "The `continue` statement is like skipping a song - it moves to the next iteration!"
   ]
  },
  {
   "cell_type": "code",
   "execution_count": null,
   "metadata": {},
   "outputs": [],
   "source": [
    "# Skip even numbers ➡️\n",
    "for num in range(10):\n",
    "    if num % 2 == 0:\n",
    "        continue\n",
    "    print(num)"
   ]
  },
  {
   "cell_type": "markdown",
   "metadata": {},
   "source": [
    "## Nested Loops: The Loop Inside a Loop 🔁\n",
    "Nested loops are like a tournament - each player competes in every round!"
   ]
  },
  {
   "cell_type": "code",
   "execution_count": null,
   "metadata": {},
   "outputs": [],
   "source": [
    "# Match players 🎮\n",
    "for i in range(3):\n",
    "    for j in range(2):\n",
    "        print(f\"Player {i} vs Player {j}\")"
   ]
  },
  {
   "cell_type": "markdown",
   "metadata": {},
   "source": [
    "## Epic Challenges - Level Up Your Skills! 🚀\n",
    "\n",
    "### Challenge 1: Sum of Numbers 🔢\n",
    "Write a program to find the sum of all numbers from 1 to 100 using a `while` loop."
   ]
  },
  {
   "cell_type": "code",
   "execution_count": null,
   "metadata": {},
   "outputs": [],
   "source": [
    "# Solution\n",
    "total = 0\n",
    "num = 1\n",
    "while num <= 100:\n",
    "    total += num\n",
    "    num += 1\n",
    "print(f\"Sum of numbers from 1 to 100: {total}\")"
   ]
  },
  {
   "cell_type": "markdown",
   "metadata": {},
   "source": [
    "### Challenge 2: Multiplication Table 🧮\n",
    "Write a program to generate a multiplication table for numbers 1 to 5 using nested loops."
   ]
  },
  {
   "cell_type": "code",
   "execution_count": null,
   "metadata": {},
   "outputs": [],
   "source": [
    "# Solution\n",
    "for i in range(1, 6):\n",
    "    for j in range(1, 6):\n",
    "        print(f\"{i*j}\", end=\"\t\")\n",
    "    print()"
   ]
  },
  {
   "cell_type": "markdown",
   "metadata": {},
   "source": [
    "### Challenge 3: Factorial Calculation 🎯\n",
    "Write a program to calculate the factorial of a given number using a `for` loop."
   ]
  },
  {
   "cell_type": "markdown",
   "metadata": {},
   "source": [
    "Understanding loops and how to control them is essential for efficiently managing repetitive tasks in Python. Practice these examples and exercises to become proficient in using `for` and `while` loops, as well as loop control statements and nested loops."
   ]
  }
 ],
 "metadata": {
  "kernelspec": {
   "display_name": "Python 3",
   "language": "python",
   "name": "python3"
  },
  "language_info": {
   "codemirror_mode": {
    "name": "ipython",
    "version": 3
   },
   "file_extension": ".py",
   "mimetype": "text/x-python",
   "name": "python",
   "nbconvert_exporter": "python",
   "pygments_lexer": "ipython3",
   "version": "3.9.11"
  }
 },
 "nbformat": 4,
 "nbformat_minor": 2
}
