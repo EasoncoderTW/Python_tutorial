{
 "cells": [
  {
   "cell_type": "markdown",
   "metadata": {},
   "source": [
    "# Lesson 5: Python's Superpower Lists! 🦸‍♂️🦸‍♀️\n",
    "\n",
    "Welcome to the world of Python lists! Today, we're diving into how Python handles collections of data like a superhero organizing their gadgets! 🛠️✨\n",
    "\n",
    "## Why Are Lists Awesome? 🤔\n",
    "\n",
    "Think about your daily life:\n",
    "- \"What should I pack for my trip?\" (A list of items 🧳)\n",
    "- \"What are my favorite songs?\" (A playlist 🎵)\n",
    "- \"What groceries do I need?\" (A shopping list 🛒)\n",
    "\n",
    "Python lists can do all this and more! Let's learn how to make your programs as organized as you are! 🧠"
   ]
  },
  {
   "cell_type": "markdown",
   "metadata": {},
   "source": [
    "## The Basics of Lists 📝\n",
    "\n",
    "### What is a List?\n",
    "A list is like a treasure chest 🧰 that holds items in a specific order. You can add, remove, or modify items anytime you want! Lists are defined using square brackets (`[]`)."
   ]
  },
  {
   "cell_type": "code",
   "execution_count": null,
   "metadata": {},
   "outputs": [
    {
     "name": "stdout",
     "output_type": "stream",
     "text": [
      "['apple', 'banana', 'cherry']\n"
     ]
    }
   ],
   "source": [
    "# Your favorite fruits 🍎🍌🍒\n",
    "fruits = [\"apple\", \"banana\", \"cherry\"]\n",
    "print(fruits)  # Output: ['apple', 'banana', 'cherry']"
   ]
  },
  {
   "cell_type": "markdown",
   "metadata": {},
   "source": [
    "### Accessing Elements\n",
    "\n",
    "Grab your favorite fruit 🍎"
   ]
  },
  {
   "cell_type": "code",
   "execution_count": 2,
   "metadata": {},
   "outputs": [
    {
     "name": "stdout",
     "output_type": "stream",
     "text": [
      "apple\n",
      "banana\n",
      "cherry\n"
     ]
    }
   ],
   "source": [
    "print(fruits[0])  # Output: apple\n",
    "print(fruits[1])  # Output: banana\n",
    "print(fruits[-1])  # Output: cherry"
   ]
  },
  {
   "cell_type": "markdown",
   "metadata": {},
   "source": [
    "### Modifying Elements\n",
    "\n",
    "Change your mind about bananas 🍌➡️🫐"
   ]
  },
  {
   "cell_type": "code",
   "execution_count": 3,
   "metadata": {},
   "outputs": [
    {
     "name": "stdout",
     "output_type": "stream",
     "text": [
      "['apple', 'blueberry', 'cherry']\n"
     ]
    }
   ],
   "source": [
    "fruits[1] = \"blueberry\"\n",
    "print(fruits)  # Output: ['apple', 'blueberry', 'cherry']"
   ]
  },
  {
   "cell_type": "markdown",
   "metadata": {},
   "source": [
    "## Superpowers of Lists 🦸‍♂️\n",
    "\n",
    "### Adding Elements\n",
    "\n",
    "- **append()**: Add an item to the end of the list."
   ]
  },
  {
   "cell_type": "code",
   "execution_count": 4,
   "metadata": {},
   "outputs": [
    {
     "name": "stdout",
     "output_type": "stream",
     "text": [
      "['apple', 'blueberry', 'cherry', 'orange']\n"
     ]
    }
   ],
   "source": [
    "fruits.append(\"orange\")\n",
    "print(fruits)  # Output: ['apple', 'blueberry', 'cherry', 'orange']"
   ]
  },
  {
   "cell_type": "markdown",
   "metadata": {},
   "source": [
    "- **insert()**: Insert an item at a specific position."
   ]
  },
  {
   "cell_type": "code",
   "execution_count": 5,
   "metadata": {},
   "outputs": [
    {
     "name": "stdout",
     "output_type": "stream",
     "text": [
      "['apple', 'banana', 'blueberry', 'cherry', 'orange']\n"
     ]
    }
   ],
   "source": [
    "fruits.insert(1, \"banana\")\n",
    "print(fruits)  # Output: ['apple', 'banana', 'blueberry', 'cherry', 'orange']"
   ]
  },
  {
   "cell_type": "markdown",
   "metadata": {},
   "source": [
    "### Removing Elements\n",
    "\n",
    "- **remove()**: Remove the first occurrence of an item."
   ]
  },
  {
   "cell_type": "code",
   "execution_count": 6,
   "metadata": {},
   "outputs": [
    {
     "name": "stdout",
     "output_type": "stream",
     "text": [
      "['apple', 'blueberry', 'cherry', 'orange']\n"
     ]
    }
   ],
   "source": [
    "fruits.remove(\"banana\")\n",
    "print(fruits)  # Output: ['apple', 'blueberry', 'cherry', 'orange']"
   ]
  },
  {
   "cell_type": "markdown",
   "metadata": {},
   "source": [
    "- **pop()**: Remove and return the last item, or the item at a specific position."
   ]
  },
  {
   "cell_type": "code",
   "execution_count": 7,
   "metadata": {},
   "outputs": [
    {
     "name": "stdout",
     "output_type": "stream",
     "text": [
      "orange\n",
      "['apple', 'blueberry', 'cherry']\n"
     ]
    }
   ],
   "source": [
    "popped_fruit = fruits.pop()\n",
    "print(popped_fruit)  # Output: orange\n",
    "print(fruits)  # Output: ['apple', 'blueberry', 'cherry']"
   ]
  },
  {
   "cell_type": "markdown",
   "metadata": {},
   "source": [
    "### Other Useful Methods\n",
    "\n",
    "- **sort()**: Sort the list in ascending order."
   ]
  },
  {
   "cell_type": "code",
   "execution_count": 8,
   "metadata": {},
   "outputs": [
    {
     "name": "stdout",
     "output_type": "stream",
     "text": [
      "['apple', 'blueberry', 'cherry']\n"
     ]
    }
   ],
   "source": [
    "fruits.sort()\n",
    "print(fruits)  # Output: ['apple', 'blueberry', 'cherry']"
   ]
  },
  {
   "cell_type": "markdown",
   "metadata": {},
   "source": [
    "- **reverse()**: Reverse the order of the list."
   ]
  },
  {
   "cell_type": "code",
   "execution_count": 9,
   "metadata": {},
   "outputs": [
    {
     "name": "stdout",
     "output_type": "stream",
     "text": [
      "['cherry', 'blueberry', 'apple']\n"
     ]
    }
   ],
   "source": [
    "fruits.reverse()\n",
    "print(fruits)  # Output: ['cherry', 'blueberry', 'apple']"
   ]
  },
  {
   "cell_type": "markdown",
   "metadata": {},
   "source": [
    "- **len()**: Get the number of items in the list."
   ]
  },
  {
   "cell_type": "code",
   "execution_count": 10,
   "metadata": {},
   "outputs": [
    {
     "name": "stdout",
     "output_type": "stream",
     "text": [
      "3\n"
     ]
    }
   ],
   "source": [
    "print(len(fruits))  # Output: 3"
   ]
  },
  {
   "cell_type": "markdown",
   "metadata": {},
   "source": [
    "### List Comprehensions\n",
    "\n",
    "List comprehensions are like magic spells 🪄 for creating lists quickly."
   ]
  },
  {
   "cell_type": "code",
   "execution_count": 11,
   "metadata": {},
   "outputs": [
    {
     "name": "stdout",
     "output_type": "stream",
     "text": [
      "[0, 1, 4, 9, 16, 25, 36, 49, 64, 81]\n"
     ]
    }
   ],
   "source": [
    "squares = [x**2 for x in range(10)]\n",
    "print(squares)  # Output: [0, 1, 4, 9, 16, 25, 36, 49, 64, 81]"
   ]
  },
  {
   "cell_type": "markdown",
   "metadata": {},
   "source": [
    "## Epic Challenges - Level Up Your Skills! 🚀\n",
    "\n",
    "### Challenge 1: Movie List 🎥\n",
    "Create a list of your favorite movies and:\n",
    "1. Add a new movie.\n",
    "2. Remove the second movie.\n",
    "3. Print the final list."
   ]
  },
  {
   "cell_type": "code",
   "execution_count": null,
   "metadata": {},
   "outputs": [],
   "source": [
    "# Solution\n",
    "movies = [\"Inception\", \"The Matrix\", \"Interstellar\", \"The Godfather\", \"The Dark Knight\"]\n",
    "movies.append(\"Pulp Fiction\")\n",
    "movies.pop(1)\n",
    "print(movies)  # Output: ['Inception', 'Interstellar', 'The Godfather', 'The Dark Knight', 'Pulp Fiction']"
   ]
  },
  {
   "cell_type": "markdown",
   "metadata": {},
   "source": [
    "### Challenge 2: Personal Dictionary 🧑‍💻\n",
    "Create a dictionary with your name, age, and city. Then:\n",
    "1. Add your email.\n",
    "2. Update your age.\n",
    "3. Print the final dictionary."
   ]
  },
  {
   "cell_type": "code",
   "execution_count": null,
   "metadata": {},
   "outputs": [],
   "source": [
    "# Solution\n",
    "person = {\"name\": \"John\", \"age\": 30, \"city\": \"New York\"}\n",
    "person[\"email\"] = \"john@example.com\"\n",
    "person[\"age\"] = 31\n",
    "print(person)  # Output: {'name': 'John', 'age': 31, 'city': 'New York', 'email': 'john@example.com'}"
   ]
  },
  {
   "cell_type": "markdown",
   "metadata": {},
   "source": [
    "### Challenge 3: Colorful Sets 🌈\n",
    "Create a set of your favorite colors and:\n",
    "1. Add a new color.\n",
    "2. Remove an existing color.\n",
    "3. Print the final set."
   ]
  },
  {
   "cell_type": "code",
   "execution_count": null,
   "metadata": {},
   "outputs": [],
   "source": [
    "# Solution\n",
    "colors = {\"red\", \"blue\", \"green\", \"yellow\", \"purple\"}\n",
    "colors.add(\"orange\")\n",
    "colors.remove(\"green\")\n",
    "print(colors)  # Output: {'red', 'blue', 'yellow', 'purple', 'orange'}"
   ]
  },
  {
   "cell_type": "markdown",
   "metadata": {},
   "source": [
    "### Challenge 4: Top 3 Students 🏆\n",
    "Find the top 3 students from a dictionary of names and scores:\n",
    "```python\n",
    "student_scores = {\n",
    "    \"Alice\": 85,\n",
    "    \"Bob\": 92,\n",
    "    \"Carol\": 78,\n",
    "    \"David\": 95,\n",
    "    \"Eve\": 88,\n",
    "    \"Frank\": 91,\n",
    "}\n",
    "\n",
    "# Your code here\n",
    "```"
   ]
  }
 ],
 "metadata": {
  "kernelspec": {
   "display_name": "Python 3",
   "language": "python",
   "name": "python3"
  },
  "language_info": {
   "codemirror_mode": {
    "name": "ipython",
    "version": 3
   },
   "file_extension": ".py",
   "mimetype": "text/x-python",
   "name": "python",
   "nbconvert_exporter": "python",
   "pygments_lexer": "ipython3",
   "version": "3.9.11"
  }
 },
 "nbformat": 4,
 "nbformat_minor": 2
}
