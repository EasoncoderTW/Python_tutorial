{
 "cells": [
  {
   "cell_type": "markdown",
   "metadata": {},
   "source": [
    "# Lesson 2: Type and Object\n",
    "\n",
    "## Types in Python\n",
    "\n",
    "### 1. Int (Integer)\n",
    "Integers are whole numbers without any decimal point. They can be positive or negative. Examples of integers are 5, -3, 100, etc.\n",
    "\n",
    "### 2. Float (Floating-Point Number)\n",
    "Floats are numbers that have a decimal point or use scientific notation. Examples of floats are 3.14, -0.001, 2.5e2, etc.\n",
    "\n",
    "### 3. Str (String)\n",
    "Strings are sequences of characters enclosed in single quotes (''), double quotes (\"\") or triple quotes (''' or \"\"\"). Examples of strings are \"hello\", 'Python', \"123\", etc.\n",
    "\n",
    "### 4. Bool (Boolean)\n",
    "Booleans represent one of two values: True or False. They are often used in conditional statements and comparisons."
   ]
  },
  {
   "cell_type": "code",
   "execution_count": 1,
   "metadata": {},
   "outputs": [
    {
     "name": "stdout",
     "output_type": "stream",
     "text": [
      "<class 'int'>\n",
      "<class 'float'>\n",
      "<class 'str'>\n",
      "<class 'bool'>\n",
      "<class 'bool'>\n"
     ]
    }
   ],
   "source": [
    "# Integer\n",
    "x = 5 \n",
    "y = -3 \n",
    "print(type(x))  # <class 'int'>\n",
    "\n",
    "# Floats\n",
    "pi = 3.14 \n",
    "value = 2.5e2 \n",
    "print(type(value))  # <class 'float'>\n",
    "\n",
    "# Strings\n",
    "name = \"Alice\" \n",
    "message = 'Hello, World!' \n",
    "print(type(message))  # <class 'str'>\n",
    "\n",
    "# Booleans\n",
    "a = True\n",
    "b = False\n",
    "print(type(a))  # <class 'bool'>\n",
    "print(type(b))  # <class 'bool'>"
   ]
  },
  {
   "cell_type": "markdown",
   "metadata": {},
   "source": [
    "## Type Conversion in Python\n",
    "\n",
    "Type conversion, also known as type casting, is the process of converting a value from one data type to another. Python provides several built-in functions for type conversion.\n",
    "\n",
    "### Common Type Conversion Functions\n",
    "\n",
    "1. `int()`: Converts a value to an integer.\n",
    "2. `float()`: Converts a value to a floating-point number.\n",
    "3. `str()`: Converts a value to a string.\n",
    "4. `bool()`: Converts a value to a boolean."
   ]
  },
  {
   "cell_type": "code",
   "execution_count": 2,
   "metadata": {},
   "outputs": [
    {
     "name": "stdout",
     "output_type": "stream",
     "text": [
      "3\n",
      "10.0\n",
      "123\n",
      "456\n",
      "456.0\n",
      "False\n",
      "True\n",
      "False\n",
      "True\n"
     ]
    }
   ],
   "source": [
    "# Converting float to int\n",
    "pi = 3.14\n",
    "pi_int = int(pi)\n",
    "print(pi_int)  # 3\n",
    "\n",
    "# Converting int to float\n",
    "num = 10\n",
    "num_float = float(num)\n",
    "print(num_float)  # 10.0\n",
    "\n",
    "# Converting int to string\n",
    "number = 123\n",
    "number_str = str(number)\n",
    "print(number_str)  # \"123\"\n",
    "\n",
    "# Converting string to int\n",
    "string = \"456\"\n",
    "string_int = int(string)\n",
    "print(string_int)  # 456\n",
    "\n",
    "# Converting string to float\n",
    "string_float = float(string)\n",
    "print(string_float)  # 456.0\n",
    "\n",
    "# Converting different values to boolean\n",
    "print(bool(0))  # False\n",
    "print(bool(1))  # True\n",
    "print(bool(\"\"))  # False\n",
    "print(bool(\"Hello\"))  # True"
   ]
  },
  {
   "cell_type": "markdown",
   "metadata": {},
   "source": [
    "## Exercise\n",
    "\n",
    "1. **Identify Data Types**:\n",
    "   Determine the data types of the following values in Python:\n",
    "   - 42\n",
    "   - 3.14159\n",
    "   - \"Python\"\n",
    "   - True\n",
    "   - '123'\n",
    "\n",
    "2. **Type Conversion Practice**:\n",
    "   Convert the following values and print their new data types:\n",
    "   - Convert `7.5` to an integer.\n",
    "   - Convert `100` to a string.\n",
    "   - Convert `\"False\"` to a boolean.\n",
    "   - Convert `0` to a boolean."
   ]
  }
 ],
 "metadata": {
  "kernelspec": {
   "display_name": "Python 3",
   "language": "python",
   "name": "python3"
  },
  "language_info": {
   "codemirror_mode": {
    "name": "ipython",
    "version": 3
   },
   "file_extension": ".py",
   "mimetype": "text/x-python",
   "name": "python",
   "nbconvert_exporter": "python",
   "pygments_lexer": "ipython3",
   "version": "3.9.11"
  }
 },
 "nbformat": 4,
 "nbformat_minor": 2
}
