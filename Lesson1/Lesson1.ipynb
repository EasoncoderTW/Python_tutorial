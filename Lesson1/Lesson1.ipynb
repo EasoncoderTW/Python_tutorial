{
 "cells": [
  {
   "cell_type": "markdown",
   "metadata": {},
   "source": [
    "# Lesson 1: Print and Input - Chat with Your Computer! 🎮\n",
    "\n",
    "## 🚀 Welcome to the Python Universe!\n",
    "\n",
    "Imagine you're chatting with your computer, just like texting on Discord or WhatsApp. Python is the language of this \"chat room\"!\n",
    "\n",
    "## 1. Hello World - Your First Message! 👋\n",
    "\n",
    "Remember the feeling of sending your first message in a group chat? Now we're going to make your computer say its first words!\n",
    "\n",
    "In Python, you only need one line of code to make your computer talk. Compared to other programming languages, Python is as simple as sending a text message!"
   ]
  },
  {
   "cell_type": "code",
   "execution_count": null,
   "metadata": {},
   "outputs": [
    {
     "name": "stdout",
     "output_type": "stream",
     "text": [
      "Hello world!\n"
     ]
    }
   ],
   "source": [
    "# Make the computer say \"Hello World\"\n",
    "print(\"Hello World! I'm alive! 🤖\")\n",
    "\n",
    "# Try some fun variations:\n",
    "print(\"Hi there! 👋\")\n",
    "print(\"Ready to code? Let's go! 🚀\")"
   ]
  },
  {
   "cell_type": "markdown",
   "metadata": {},
   "source": [
    "## 2. print Function - Your Computer's Megaphone 📢\n",
    "\n",
    "### Basic Usage\n",
    "The `print()` function is like your computer's voice - it can say anything you want!\n",
    "\n",
    "### Advanced Trick: Have a Conversation with Your Computer\n",
    "The `input()` function lets your computer listen to you - just like a real conversation!"
   ]
  },
  {
   "cell_type": "code",
   "execution_count": null,
   "metadata": {},
   "outputs": [
    {
     "name": "stdout",
     "output_type": "stream",
     "text": [
      "Hello, world!\n",
      "Hello, Eason!\n"
     ]
    }
   ],
   "source": [
    "# Make your computer talk\n",
    "print(\"Hi! I'm your Python assistant!\")\n",
    "print(\"What a beautiful day!\")\n",
    "print(\"What would you like to learn?\")"
   ]
  },
  {
   "cell_type": "code",
   "execution_count": null,
   "metadata": {},
   "outputs": [],
   "source": [
    "# Get user input - just like chatting!\n",
    "name = input(\"What's your name? \")\n",
    "age = input(\"How old are you? \")\n",
    "\n",
    "print(\"Wow! So your name is \" + name + \"!\")\n",
    "print(\"And you're only \" + age + \" years old, so young!\")\n",
    "print(\"Welcome to the Python world! 🎉\")"
   ]
  },
  {
   "cell_type": "markdown",
   "metadata": {},
   "source": [
    "## 3. print Function's Superpowers - sep and end Parameters ⚡\n",
    "\n",
    "The print function has two hidden skills: **sep** (separator) and **end** (ending)\n",
    "\n",
    "```python\n",
    "print(string1, string2, ... , sep=\" \", end=\"\\n\") # default values\n",
    "```\n",
    "\n",
    "All strings will be printed and separated by the string represented by `sep`. The default is `\" \"` (space). The end will be concatenated with the string represented by `end`, and the default is a newline symbol `\\n`."
   ]
  },
  {
   "cell_type": "code",
   "execution_count": null,
   "metadata": {},
   "outputs": [
    {
     "name": "stdout",
     "output_type": "stream",
     "text": [
      "Apple Orange Banana\n",
      "Apple,Orange,Banana\n",
      "Apple@@@Orange@@@Banana\n",
      "Apple,Orange,Banana -> fruit !!!\n"
     ]
    }
   ],
   "source": [
    "# Default case\n",
    "print(\"Apple\", \"Orange\", \"Banana\")\n",
    "\n",
    "# Comma separated (like a shopping list)\n",
    "print(\"Apple\", \"Orange\", \"Banana\", sep=\", \")\n",
    "\n",
    "# Arrow separated (like a game path)\n",
    "print(\"Starter Village\", \"Forest\", \"Castle\", sep=\" → \")\n",
    "\n",
    "# Emoji separated (super cute!)\n",
    "print(\"Programming\", \"Gaming\", \"Music\", sep=\" 🎵 \")\n",
    "\n",
    "# Custom ending\n",
    "print(\"Apple\", \"Orange\", \"Banana\", sep=\", \", end=\" -> These are fruits! 🍎\\n\")"
   ]
  },
  {
   "cell_type": "code",
   "execution_count": null,
   "metadata": {},
   "outputs": [
    {
     "name": "stdout",
     "output_type": "stream",
     "text": [
      "Hello world !\n"
     ]
    }
   ],
   "source": [
    "# Magic of controlling endings:\n",
    "# Keep text on the same line\n",
    "print(\"Loading\", end=\"\")\n",
    "print(\".\", end=\"\")\n",
    "print(\".\", end=\"\")\n",
    "print(\".\", end=\"\")\n",
    "print(\" Done!\")\n",
    "\n",
    "print()  # Empty line for spacing\n",
    "\n",
    "# Create chat effects\n",
    "print(\"You: \", end=\"\")\n",
    "print(\"How's the weather today?\")\n",
    "print(\"Computer: \", end=\"\")\n",
    "print(\"It's sunny today, perfect for coding! ☀️\")"
   ]
  },
  {
   "cell_type": "markdown",
   "metadata": {},
   "source": [
    "## 🎮 Challenge Time!\n",
    "\n",
    "### Mission: Create Your Personal Signature\n",
    "Complete the following program to make the output look like your cool personal signature!"
   ]
  },
  {
   "cell_type": "code",
   "execution_count": null,
   "metadata": {},
   "outputs": [
    {
     "name": "stdout",
     "output_type": "stream",
     "text": [
      "Apple@@@Apple@@@Apple@@@Apple@@@Apple\n"
     ]
    }
   ],
   "source": [
    "# Challenge: Create your personal signature\n",
    "separator = input(\"Enter your favorite separator (e.g., ⭐, 🎮, 💫): \")\n",
    "nickname = input(\"Enter your nickname: \")\n",
    "\n",
    "# Use your chosen separator to display your nickname 5 times\n",
    "print(nickname, nickname, nickname, nickname, nickname, sep=separator)\n",
    "\n",
    "# Expected output example:\n",
    "# Enter your favorite separator: ⭐\n",
    "# Enter your nickname: Alex\n",
    "# Alex⭐Alex⭐Alex⭐Alex⭐Alex"
   ]
  },
  {
   "cell_type": "code",
   "execution_count": null,
   "metadata": {},
   "outputs": [],
   "source": [
    "# Advanced Challenge: Build a Chatbot\n",
    "print(\"🤖 Welcome to the Python Chat Room!\")\n",
    "print(\"=\" * 30)\n",
    "\n",
    "user_name = input(\"Enter your nickname: \")\n",
    "favorite_game = input(\"What's your favorite game? \")\n",
    "favorite_subject = input(\"What's your favorite subject? \")\n",
    "\n",
    "print(\"\\n🎉 Profile created successfully!\")\n",
    "print(\"🏷️  Nickname: \" + user_name)\n",
    "print(\"🎮 Favorite Game: \" + favorite_game)\n",
    "print(\"📚 Favorite Subject: \" + favorite_subject)\n",
    "print(\"\\nWelcome to the Python world, \" + user_name + \"!\")\n",
    "print(\"Let's create awesome \", favorite_game, \" plugins together!\", sep=\"\")"
   ]
  },
  {
   "cell_type": "markdown",
   "metadata": {},
   "source": [
    "## 🌟 Key Points Summary\n",
    "\n",
    "- ✅ `print()` function: The magic spell to make your computer talk\n",
    "- ✅ `input()` function: Make your computer listen to you\n",
    "- ✅ `sep` parameter: Control separators between text\n",
    "- ✅ `end` parameter: Control text ending style\n",
    "- ✅ String concatenation: Use `+` to join text together\n",
    "\n",
    "## 💡 Real-Life Applications\n",
    "\n",
    "Think about it - the skills you've learned can be used to:\n",
    "- 📱 Design chatbots\n",
    "- 🎮 Create dialogue systems in games\n",
    "- 📊 Build interactive surveys\n",
    "- 🎨 Create personalized text art\n",
    "\n",
    "Ready for the next lesson? We're going to learn about Python's \"Data Types\" - as interesting as getting to know different types of Pokémon! 🔥"
   ]
  }
 ],
 "metadata": {
  "kernelspec": {
   "display_name": "Python 3",
   "language": "python",
   "name": "python3"
  },
  "language_info": {
   "codemirror_mode": {
    "name": "ipython",
    "version": 3
   },
   "file_extension": ".py",
   "mimetype": "text/x-python",
   "name": "python",
   "nbconvert_exporter": "python",
   "pygments_lexer": "ipython3",
   "version": "3.9.11"
  }
 },
 "nbformat": 4,
 "nbformat_minor": 2
}
