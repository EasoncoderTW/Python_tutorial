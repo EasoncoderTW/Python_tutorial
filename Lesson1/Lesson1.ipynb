{
 "cells": [
  {
   "cell_type": "markdown",
   "metadata": {},
   "source": [
    "# Lesson 1: print and input\n",
    "\n",
    "## 1. Hello world\n",
    "In Python, you can execute with just one line of command. Compared to C/C++, which are also high-level languages, Python’s syntax is diverse and simple."
   ]
  },
  {
   "cell_type": "code",
   "execution_count": 1,
   "metadata": {},
   "outputs": [
    {
     "name": "stdout",
     "output_type": "stream",
     "text": [
      "Hello world!\n"
     ]
    }
   ],
   "source": [
    "print(\"Hello world!\")"
   ]
  },
  {
   "cell_type": "markdown",
   "metadata": {},
   "source": [
    "## 2. print function and input function\n",
    "\n",
    "In Python, the print function is used to output information to the console, while the input function is used to get input from the user."
   ]
  },
  {
   "cell_type": "code",
   "execution_count": 3,
   "metadata": {},
   "outputs": [
    {
     "name": "stdout",
     "output_type": "stream",
     "text": [
      "Hello, world!\n",
      "Hello, Eason!\n"
     ]
    }
   ],
   "source": [
    "# use print to output a string on screen\n",
    "print(\"Hello, world!\")\n",
    "\n",
    "# use input to get letters from user\n",
    "name = input(\"Please enter your name: \")\n",
    "print(\"Hello, \" + name + \"!\")"
   ]
  },
  {
   "cell_type": "markdown",
   "metadata": {},
   "source": [
    "The print function has two common parameters: **sep** and **end**\n",
    "```python\n",
    "print(string 1, string 2, ... , sep=\" \", end=\"\\n\") # by default\n",
    "```\n",
    "All strings will be printed and separated by the string represented by sep. The default is \" \" (blank key). And the end will be concatenated with the string represented by end, and the default is a newline symbol `\\n`."
   ]
  },
  {
   "cell_type": "code",
   "execution_count": 4,
   "metadata": {},
   "outputs": [
    {
     "name": "stdout",
     "output_type": "stream",
     "text": [
      "Apple Orange Banana\n",
      "Apple,Orange,Banana\n",
      "Apple@@@Orange@@@Banana\n",
      "Apple,Orange,Banana -> fruit !!!\n"
     ]
    }
   ],
   "source": [
    "print(\"Apple\",\"Orange\",\"Banana\")\n",
    "print(\"Apple\",\"Orange\",\"Banana\",sep=\",\")\n",
    "print(\"Apple\",\"Orange\",\"Banana\",sep=\"@@@\")\n",
    "print(\"Apple\",\"Orange\",\"Banana\",sep=\",\",end=\" -> fruit !!!\\n\")"
   ]
  },
  {
   "cell_type": "code",
   "execution_count": 6,
   "metadata": {},
   "outputs": [
    {
     "name": "stdout",
     "output_type": "stream",
     "text": [
      "Hello world !\n"
     ]
    }
   ],
   "source": [
    "print(\"Hello\",end = \" \")\n",
    "print(\"world !\")"
   ]
  },
  {
   "cell_type": "markdown",
   "metadata": {},
   "source": [
    "## Excersice\n",
    "Please complete the fill in the blanks in the program and make the output string use the input string as the delimiter."
   ]
  },
  {
   "cell_type": "code",
   "execution_count": 7,
   "metadata": {},
   "outputs": [
    {
     "name": "stdout",
     "output_type": "stream",
     "text": [
      "Apple@@@Apple@@@Apple@@@Apple@@@Apple\n"
     ]
    }
   ],
   "source": [
    "s = input(\"Enter seperator: \")\n",
    "a = input(\"Enter a string: \")\n",
    "# output 5 times a using s as a seperator.\n",
    "print() # TODO\n",
    "\n",
    "\n",
    "# eg. Apple@@@Apple@@@Apple@@@Apple@@@Apple"
   ]
  }
 ],
 "metadata": {
  "kernelspec": {
   "display_name": "Python 3",
   "language": "python",
   "name": "python3"
  },
  "language_info": {
   "codemirror_mode": {
    "name": "ipython",
    "version": 3
   },
   "file_extension": ".py",
   "mimetype": "text/x-python",
   "name": "python",
   "nbconvert_exporter": "python",
   "pygments_lexer": "ipython3",
   "version": "3.9.11"
  }
 },
 "nbformat": 4,
 "nbformat_minor": 2
}
