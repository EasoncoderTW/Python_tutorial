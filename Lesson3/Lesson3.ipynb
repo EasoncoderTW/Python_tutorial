{
 "cells": [
  {
   "cell_type": "markdown",
   "metadata": {},
   "source": [
    "# Lesson 3: Python's Math Superpowers! 🧮✨\n",
    "\n",
    "Welcome to the exciting world of Python math! Think of Python as your super-smart calculator that can solve problems faster than you can say \"pizza\"! 🍕\n",
    "\n",
    "## Why Do We Need Math in Programming? 🤔\n",
    "\n",
    "Imagine you're creating a game where players collect coins, or building an app that calculates how much allowance you've saved. Math is everywhere in programming! Let's explore Python's mathematical superpowers."
   ]
  },
  {
   "cell_type": "markdown",
   "metadata": {},
   "source": [
    "## Basic Arithmetic Operations - The Big Four! \n",
    "\n",
    "### Addition (+): The Collector 🎯\n",
    "Addition is like collecting items in a video game!"
   ]
  },
  {
   "cell_type": "code",
   "execution_count": null,
   "metadata": {},
   "outputs": [
    {
     "name": "stdout",
     "output_type": "stream",
     "text": [
      "15\n"
     ]
    }
   ],
   "source": [
    "# You have 10 coins, find 5 more\n",
    "coins_before = 10\n",
    "coins_found = 5\n",
    "total_coins = coins_before + coins_found\n",
    "print(f\"Total coins: {total_coins}\")  # Output: Total coins: 15\n",
    "\n",
    "# Real-world example: Social media likes\n",
    "instagram_likes = 245\n",
    "new_likes = 38\n",
    "total_likes = instagram_likes + new_likes\n",
    "print(f\"Wow! You now have {total_likes} likes! 🎉\")  # Output: Wow! You now have 283 likes! 🎉"
   ]
  },
  {
   "cell_type": "markdown",
   "metadata": {},
   "source": [
    "### Subtraction (-): The Spender 💸\n",
    "Subtraction is like spending money or losing lives in a game!"
   ]
  },
  {
   "cell_type": "code",
   "execution_count": null,
   "metadata": {},
   "outputs": [
    {
     "name": "stdout",
     "output_type": "stream",
     "text": [
      "5\n"
     ]
    }
   ],
   "source": [
    "# You had 50 dollars, spent 20 on a game\n",
    "money_before = 50\n",
    "spent_on_game = 20\n",
    "money_left = money_before - spent_on_game\n",
    "print(f\"Money left: ${money_left}\")  # Output: Money left: $30\n",
    "\n",
    "# Gaming example: Health points\n",
    "player_health = 100\n",
    "damage_taken = 25\n",
    "current_health = player_health - damage_taken\n",
    "print(f\"Health remaining: {current_health} HP\")  # Output: Health remaining: 75 HP"
   ]
  },
  {
   "cell_type": "markdown",
   "metadata": {},
   "source": [
    "### Multiplication (*): The Multiplier 🚀\n",
    "Multiplication is like cloning or repeated addition - super powerful!"
   ]
  },
  {
   "cell_type": "code",
   "execution_count": null,
   "metadata": {},
   "outputs": [
    {
     "name": "stdout",
     "output_type": "stream",
     "text": [
      "50\n"
     ]
    }
   ],
   "source": [
    "# You work 8 hours a day, earn $15 per hour\n",
    "hours_worked = 8\n",
    "hourly_rate = 15\n",
    "daily_earnings = hours_worked * hourly_rate\n",
    "print(f\"Daily earnings: ${daily_earnings}\")  # Output: Daily earnings: $120\n",
    "\n",
    "# Gaming example: Experience points\n",
    "enemies_defeated = 12\n",
    "exp_per_enemy = 50\n",
    "total_exp = enemies_defeated * exp_per_enemy\n",
    "print(f\"Total EXP gained: {total_exp} points! 🎮\")  # Output: Total EXP gained: 600 points! 🎮"
   ]
  },
  {
   "cell_type": "markdown",
   "metadata": {},
   "source": [
    "### Division (/): The Splitter 🍰\n",
    "Division is like sharing pizza slices equally among friends!"
   ]
  },
  {
   "cell_type": "code",
   "execution_count": null,
   "metadata": {},
   "outputs": [
    {
     "name": "stdout",
     "output_type": "stream",
     "text": [
      "2.0\n"
     ]
    }
   ],
   "source": [
    "# 8 pizza slices shared among 4 friends\n",
    "pizza_slices = 8\n",
    "number_of_friends = 4\n",
    "slices_per_person = pizza_slices / number_of_friends\n",
    "print(f\"Each person gets {slices_per_person} slices\")  # Output: Each person gets 2.0 slices\n",
    "\n",
    "# Study example: Average score\n",
    "total_points = 450\n",
    "number_of_tests = 5\n",
    "average_score = total_points / number_of_tests\n",
    "print(f\"Your average score: {average_score}%\")  # Output: Your average score: 90.0%"
   ]
  },
  {
   "cell_type": "markdown",
   "metadata": {},
   "source": [
    "## The Advanced Math Trio - Level Up! 🎯\n",
    "\n",
    "### Modulus (%): The Remainder Detective 🕵️\n",
    "Modulus finds the \"leftover\" - super useful for checking if numbers are even/odd!"
   ]
  },
  {
   "cell_type": "code",
   "execution_count": null,
   "metadata": {},
   "outputs": [
    {
     "name": "stdout",
     "output_type": "stream",
     "text": [
      "1\n"
     ]
    }
   ],
   "source": [
    "# Check if a number is even or odd\n",
    "number = 17\n",
    "remainder = number % 2\n",
    "if remainder == 0:\n",
    "    print(f\"{number} is even!\")\n",
    "else:\n",
    "    print(f\"{number} is odd!\")  # Output: 17 is odd!\n",
    "\n",
    "# Real example: Organizing teams\n",
    "total_students = 23\n",
    "team_size = 4\n",
    "students_left_out = total_students % team_size\n",
    "print(f\"{students_left_out} students need to join existing teams\")  # Output: 3 students need to join existing teams"
   ]
  },
  {
   "cell_type": "markdown",
   "metadata": {},
   "source": [
    "### Exponentiation (**): The Power Booster 💪\n",
    "Exponentiation is like supercharging your numbers!"
   ]
  },
  {
   "cell_type": "code",
   "execution_count": null,
   "metadata": {},
   "outputs": [
    {
     "name": "stdout",
     "output_type": "stream",
     "text": [
      "8\n"
     ]
    }
   ],
   "source": [
    "# Calculate compound interest (money growing over time)\n",
    "initial_amount = 1000\n",
    "growth_rate = 1.1  # 10% growth\n",
    "years = 3\n",
    "final_amount = initial_amount * (growth_rate ** years)\n",
    "print(f\"After {years} years: ${final_amount:.2f}\")  # Output: After 3 years: $1331.00\n",
    "\n",
    "# Gaming example: Leveling up damage\n",
    "base_damage = 5\n",
    "level = 4\n",
    "damage_multiplier = 2 ** level  # Damage doubles each level\n",
    "final_damage = base_damage * damage_multiplier\n",
    "print(f\"Level {level} damage: {final_damage} points! 💥\")  # Output: Level 4 damage: 80 points! 💥"
   ]
  },
  {
   "cell_type": "markdown",
   "metadata": {},
   "source": [
    "### Floor Division (//): The Round-Down Champion 📉\n",
    "Floor division gives you whole numbers only - no decimals allowed!"
   ]
  },
  {
   "cell_type": "code",
   "execution_count": null,
   "metadata": {},
   "outputs": [
    {
     "name": "stdout",
     "output_type": "stream",
     "text": [
      "3\n"
     ]
    }
   ],
   "source": [
    "# How many full weeks in 50 days?\n",
    "total_days = 50\n",
    "days_per_week = 7\n",
    "full_weeks = total_days // days_per_week\n",
    "print(f\"Full weeks: {full_weeks}\")  # Output: Full weeks: 7\n",
    "\n",
    "# Movie theater example: How many rows of 6 seats?\n",
    "total_seats = 100\n",
    "seats_per_row = 6\n",
    "full_rows = total_seats // seats_per_row\n",
    "print(f\"We can make {full_rows} full rows\")  # Output: We can make 16 full rows"
   ]
  },
  {
   "cell_type": "markdown",
   "metadata": {},
   "source": [
    "## Operator Precedence - The Order of Operations! 📋\n",
    "\n",
    "Think of this like following a recipe - you need to do things in the right order!\n",
    "\n",
    "### The Golden Rule: PEMDAS (Please Excuse My Dear Aunt Sally)\n",
    "1. **P**arentheses `()` - First priority!\n",
    "2. **E**xponents `**` - Power moves!\n",
    "3. **M**ultiplication `*` and **D**ivision `/` (including `//` and `%`) - Left to right\n",
    "4. **A**ddition `+` and **S**ubtraction `-` - Left to right\n",
    "\n",
    "### Real-World Example: Calculating Your Gaming Score 🎮"
   ]
  },
  {
   "cell_type": "code",
   "execution_count": null,
   "metadata": {},
   "outputs": [
    {
     "name": "stdout",
     "output_type": "stream",
     "text": [
      "2.0\n"
     ]
    }
   ],
   "source": [
    "# Complex scoring system\n",
    "base_score = 100\n",
    "bonus_multiplier = 2\n",
    "power_up_bonus = 3 ** 2  # Power-up gives 9 points\n",
    "penalty = 15\n",
    "combo_hits = 4\n",
    "\n",
    "final_score = base_score + bonus_multiplier * power_up_bonus * combo_hits - penalty\n",
    "print(f\"Your final score: {final_score}\")  # Output: Your final score: 157\n",
    "\n",
    "# Let's break it down step by step:\n",
    "# 1. First: 3 ** 2 = 9 (exponent)\n",
    "# 2. Then: 2 * 9 = 18 (multiplication)\n",
    "# 3. Then: 18 * 4 = 72 (multiplication)\n",
    "# 4. Then: 100 + 72 = 172 (addition)\n",
    "# 5. Finally: 172 - 15 = 157 (subtraction)"
   ]
  },
  {
   "cell_type": "markdown",
   "metadata": {},
   "source": [
    "## Fun Challenges - Test Your Skills! 🎯\n",
    "\n",
    "### Challenge 1: The Allowance Calculator 💰\n",
    "You get $20 allowance per week. Calculate how much you'll have after 6 weeks if you spend $15 each week on snacks."
   ]
  },
  {
   "cell_type": "code",
   "execution_count": null,
   "metadata": {},
   "outputs": [],
   "source": [
    "# Challenge 1: Your solution here!\n",
    "weekly_allowance = 20\n",
    "weekly_spending = 15\n",
    "weeks = 6\n",
    "money_saved = (weekly_allowance - weekly_spending) * weeks\n",
    "print(f\"Money saved after {weeks} weeks: ${money_saved}\")"
   ]
  },
  {
   "cell_type": "markdown",
   "metadata": {},
   "source": [
    "### Challenge 2: The Grade Calculator 📊\n",
    "Calculate your semester average if you got these test scores: 85, 92, 78, 96, 88"
   ]
  },
  {
   "cell_type": "code",
   "execution_count": null,
   "metadata": {},
   "outputs": [],
   "source": [
    "# Challenge 2: Your solution here!\n",
    "test_scores = [85, 92, 78, 96, 88]\n",
    "total_points = sum(test_scores)\n",
    "number_of_tests = len(test_scores)\n",
    "average = total_points / number_of_tests\n",
    "print(f\"Your semester average: {average}%\")"
   ]
  },
  {
   "cell_type": "markdown",
   "metadata": {},
   "source": [
    "### Challenge 3: The Pizza Party Planner 🍕\n",
    "You're ordering pizza for 23 people. Each pizza has 8 slices and feeds 3 people. How many pizzas do you need?"
   ]
  },
  {
   "cell_type": "code",
   "execution_count": null,
   "metadata": {},
   "outputs": [],
   "source": [
    "# Challenge 3: Your solution here!\n",
    "people = 23\n",
    "people_per_pizza = 3\n",
    "pizzas_needed = people // people_per_pizza + (1 if people % people_per_pizza > 0 else 0)\n",
    "print(f\"You need {pizzas_needed} pizzas for the party!\")"
   ]
  },
  {
   "cell_type": "markdown",
   "metadata": {},
   "source": [
    "### Challenge 4: The Compound Interest Calculator 🏦\n",
    "If you invest $500 at 5% annual interest (1.05 multiplier), how much will you have after 10 years?"
   ]
  },
  {
   "cell_type": "code",
   "execution_count": null,
   "metadata": {},
   "outputs": [
    {
     "name": "stdout",
     "output_type": "stream",
     "text": [
      "5\n"
     ]
    }
   ],
   "source": [
    "# Challenge 4: Your solution here!\n",
    "principal = 500\n",
    "interest_rate = 1.05\n",
    "years = 10\n",
    "final_amount = principal * (interest_rate ** years)\n",
    "print(f\"After {years} years, you'll have: ${final_amount:.2f}\")"
   ]
  },
  {
   "cell_type": "markdown",
   "metadata": {},
   "source": [
    "## Pro Tips for Young Programmers! 🌟\n",
    "\n",
    "1. **Use parentheses** when you're unsure about order of operations - it's better to be safe!\n",
    "2. **Comment your code** - explain what your math is doing\n",
    "3. **Test with simple numbers** first, then try complex ones\n",
    "4. **Think real-world** - relate math to things you care about (games, money, social media)\n",
    "\n",
    "Remember: Every app, game, and website uses these basic math operations. You're learning the building blocks of the digital world! 🚀\n",
    "\n",
    "Now go forth and calculate like a coding wizard! 🧙‍♂️✨"
   ]
  }
 ],
 "metadata": {
  "kernelspec": {
   "display_name": "Python 3",
   "language": "python",
   "name": "python3"
  },
  "language_info": {
   "codemirror_mode": {
    "name": "ipython",
    "version": 3
   },
   "file_extension": ".py",
   "mimetype": "text/x-python",
   "name": "python",
   "nbconvert_exporter": "python",
   "pygments_lexer": "ipython3",
   "version": "3.9.11"
  }
 },
 "nbformat": 4,
 "nbformat_minor": 2
}
